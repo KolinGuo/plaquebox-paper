{
 "cells": [
  {
   "cell_type": "code",
   "execution_count": 4,
   "metadata": {},
   "outputs": [],
   "source": [
    "#Step1: Read png\n",
    "import pyvips\n",
    "FILE = 'data/outputs/norm_png/NA4160-02_AB.png'\n",
    "image = pyvips.Image.new_from_file(FILE)"
   ]
  },
  {
   "cell_type": "code",
   "execution_count": 5,
   "metadata": {},
   "outputs": [
    {
     "name": "stdout",
     "output_type": "stream",
     "text": [
      "3700\n",
      "13100\n",
      "4847\n"
     ]
    }
   ],
   "source": [
    "#dense\n",
    "#x:500-4200\n",
    "#y:13700-26800\n",
    "print(3700)\n",
    "print(26800-13700)\n",
    "print(37*131)"
   ]
  },
  {
   "cell_type": "code",
   "execution_count": 6,
   "metadata": {},
   "outputs": [
    {
     "name": "stdout",
     "output_type": "stream",
     "text": [
      "<pyvips.Image 59904x43008 uchar, 3 bands, srgb>\n"
     ]
    }
   ],
   "source": [
    "print(image)"
   ]
  },
  {
   "cell_type": "code",
   "execution_count": 7,
   "metadata": {},
   "outputs": [],
   "source": [
    "import os\n",
    "SAVE_DENSE_DIR = 'data/ds/dense/NA4160-02_AB'\n",
    "if not os.path.exists(SAVE_DENSE_DIR):\n",
    "    os.makedirs(SAVE_DENSE_DIR)\n",
    "\n",
    "FILENAME = 'd'\n",
    "i = 0\n",
    "\n",
    "#Dense Area(Left Top)\n",
    "\n",
    "x_left = 500\n",
    "y_top = 13700\n",
    "\n",
    "for x in range(37):\n",
    "    for y in range(131):\n",
    "        x1 = x_left + x*100\n",
    "        y1 = y_top + y*100\n",
    "        img = image.extract_area(x1,y1,256,256)\n",
    "        name = SAVE_DENSE_DIR + '/'+ FILENAME + str(i) + '.png'\n",
    "        i = i + 1\n",
    "        img.write_to_file(name)"
   ]
  },
  {
   "cell_type": "code",
   "execution_count": 8,
   "metadata": {},
   "outputs": [
    {
     "name": "stdout",
     "output_type": "stream",
     "text": [
      "5400\n",
      "11000\n"
     ]
    }
   ],
   "source": [
    "# sparse\n",
    "# x:6800 12200\n",
    "# y:13000 24000\n",
    "print(12200-6800)\n",
    "print(24000-13000)"
   ]
  },
  {
   "cell_type": "code",
   "execution_count": 9,
   "metadata": {},
   "outputs": [],
   "source": [
    "import os\n",
    "SAVE_DENSE_DIR = 'data/ds/sparse/NA4160-02_AB'\n",
    "if not os.path.exists(SAVE_DENSE_DIR):\n",
    "    os.makedirs(SAVE_DENSE_DIR)\n",
    "\n",
    "FILENAME = 's'\n",
    "i = 0\n",
    "\n",
    "\n",
    "x_left = 40000\n",
    "y_top = 18300\n",
    "\n",
    "for x in range(54):\n",
    "    for y in range(110):\n",
    "        x1 = x_left + x*100\n",
    "        y1 = y_top + y*100\n",
    "        img = image.extract_area(x1,y1,256,256)\n",
    "        name = SAVE_DENSE_DIR + '/'+ FILENAME + str(i) + '.png'\n",
    "        i = i + 1\n",
    "        img.write_to_file(name)"
   ]
  },
  {
   "cell_type": "code",
   "execution_count": null,
   "metadata": {},
   "outputs": [],
   "source": []
  }
 ],
 "metadata": {
  "kernelspec": {
   "display_name": "Python 3",
   "language": "python",
   "name": "python3"
  },
  "language_info": {
   "codemirror_mode": {
    "name": "ipython",
    "version": 3
   },
   "file_extension": ".py",
   "mimetype": "text/x-python",
   "name": "python",
   "nbconvert_exporter": "python",
   "pygments_lexer": "ipython3",
   "version": "3.6.8"
  }
 },
 "nbformat": 4,
 "nbformat_minor": 2
}
