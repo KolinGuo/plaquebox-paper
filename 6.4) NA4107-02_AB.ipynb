{
 "cells": [
  {
   "cell_type": "code",
   "execution_count": 4,
   "metadata": {},
   "outputs": [],
   "source": [
    "#Step1: Read png\n",
    "import pyvips\n",
    "FILE = 'data/outputs/norm_png/NA4107-02_AB.png'\n",
    "image = pyvips.Image.new_from_file(FILE)"
   ]
  },
  {
   "cell_type": "code",
   "execution_count": 5,
   "metadata": {},
   "outputs": [
    {
     "name": "stdout",
     "output_type": "stream",
     "text": [
      "<pyvips.Image 69120x36864 uchar, 3 bands, srgb>\n"
     ]
    }
   ],
   "source": [
    "print(image)"
   ]
  },
  {
   "cell_type": "code",
   "execution_count": 6,
   "metadata": {},
   "outputs": [
    {
     "name": "stdout",
     "output_type": "stream",
     "text": [
      "7700\n",
      "4500\n",
      "3465\n"
     ]
    }
   ],
   "source": [
    "# dense\n",
    "# x: 45000 52700\n",
    "# y: 13500 18000\n",
    "print(52700-45000)\n",
    "print(18000-13500)\n",
    "print(77*45)"
   ]
  },
  {
   "cell_type": "code",
   "execution_count": 7,
   "metadata": {},
   "outputs": [],
   "source": [
    "import os\n",
    "SAVE_DENSE_DIR = 'data/ds/dense/NA4107-02_AB'\n",
    "if not os.path.exists(SAVE_DENSE_DIR):\n",
    "    os.makedirs(SAVE_DENSE_DIR)\n",
    "\n",
    "FILENAME = 'd'\n",
    "i = 0\n",
    "\n",
    "#Dense Area(Left Top)\n",
    "\n",
    "x_left = 45000\n",
    "y_top = 13500\n",
    "\n",
    "for x in range(77):\n",
    "    for y in range(45):\n",
    "        x1 = x_left + x*100\n",
    "        y1 = y_top + y*100\n",
    "        img = image.extract_area(x1,y1,256,256)\n",
    "        name = SAVE_DENSE_DIR + '/'+ FILENAME + str(i) + '.png'\n",
    "        i = i + 1\n",
    "        img.write_to_file(name)"
   ]
  },
  {
   "cell_type": "code",
   "execution_count": 8,
   "metadata": {},
   "outputs": [
    {
     "name": "stdout",
     "output_type": "stream",
     "text": [
      "10500\n",
      "8000\n"
     ]
    }
   ],
   "source": [
    "# sparse\n",
    "# x: 31500 42000\n",
    "# y: 22000 30000\n",
    "print(42000-31500)\n",
    "print(30000-22000)"
   ]
  },
  {
   "cell_type": "code",
   "execution_count": 9,
   "metadata": {},
   "outputs": [],
   "source": [
    "import os\n",
    "SAVE_DENSE_DIR = 'data/ds/sparse/NA4107-02_AB'\n",
    "if not os.path.exists(SAVE_DENSE_DIR):\n",
    "    os.makedirs(SAVE_DENSE_DIR)\n",
    "\n",
    "FILENAME = 's'\n",
    "i = 0\n",
    "\n",
    "\n",
    "x_left = 31500\n",
    "y_top = 22000\n",
    "\n",
    "for x in range(105):\n",
    "    for y in range(80):\n",
    "        x1 = x_left + x*100\n",
    "        y1 = y_top + y*100\n",
    "        img = image.extract_area(x1,y1,256,256)\n",
    "        name = SAVE_DENSE_DIR + '/'+ FILENAME + str(i) + '.png'\n",
    "        i = i + 1\n",
    "        img.write_to_file(name)"
   ]
  },
  {
   "cell_type": "code",
   "execution_count": null,
   "metadata": {},
   "outputs": [],
   "source": []
  }
 ],
 "metadata": {
  "kernelspec": {
   "display_name": "Python 3",
   "language": "python",
   "name": "python3"
  },
  "language_info": {
   "codemirror_mode": {
    "name": "ipython",
    "version": 3
   },
   "file_extension": ".py",
   "mimetype": "text/x-python",
   "name": "python",
   "nbconvert_exporter": "python",
   "pygments_lexer": "ipython3",
   "version": "3.6.8"
  }
 },
 "nbformat": 4,
 "nbformat_minor": 2
}
