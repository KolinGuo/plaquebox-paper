{
 "cells": [
  {
   "cell_type": "code",
   "execution_count": 3,
   "metadata": {},
   "outputs": [
    {
     "name": "stdout",
     "output_type": "stream",
     "text": [
      "Collecting openslide-python\n",
      "\u001b[?25l  Downloading https://files.pythonhosted.org/packages/26/5a/5b0adeabce81f018a9e4ffe9a419536064bc95c1b12194aff9b7e48f91f7/openslide-python-1.1.1.tar.gz (312kB)\n",
      "\u001b[K     |################################| 317kB 6.8MB/s eta 0:00:01\n",
      "\u001b[?25hRequirement already satisfied: Pillow in /usr/local/lib/python3.6/dist-packages (from openslide-python) (6.1.0)\n",
      "Building wheels for collected packages: openslide-python\n",
      "  Building wheel for openslide-python (setup.py) ... \u001b[?25ldone\n",
      "\u001b[?25h  Stored in directory: /root/.cache/pip/wheels/56/44/7e/16c9fc72cfbf1bffe48676b6835843d21abcc56566e958e7d6\n",
      "Successfully built openslide-python\n",
      "Installing collected packages: openslide-python\n",
      "Successfully installed openslide-python-1.1.1\n",
      "\u001b[33mWARNING: You are using pip version 19.1.1, however version 19.2.3 is available.\n",
      "You should consider upgrading via the 'pip install --upgrade pip' command.\u001b[0m\n"
     ]
    }
   ],
   "source": [
    "#!pip install openslide-python\n",
    "# NA4626-02_AB\n",
    "#FILE = 'data/outputs/norm_png/NA4626-02_AB.png'\n",
    "# import openslide\n",
    "# from openslide import OpenSlide, OpenSlideError\n",
    "# from openslide.deepzoom import DeepZoomGenerator\n",
    "# im = OpenSlide(FILE)\n",
    "# print(im.level_count)\n",
    "# print(im.level_dimensions)\n",
    "#img = im.read_region((2700,12200),0,(7200,17400))"
   ]
  },
  {
   "cell_type": "code",
   "execution_count": 7,
   "metadata": {},
   "outputs": [
    {
     "name": "stdout",
     "output_type": "stream",
     "text": [
      "3\n",
      "((47808, 41668), (11952, 10417), (2988, 2604))\n"
     ]
    }
   ],
   "source": [
    "# print(im.level_count)\n",
    "# print(im.level_dimensions)\n",
    "#img = im.read_region((2700,12200),0,(7200,17400))"
   ]
  },
  {
   "cell_type": "code",
   "execution_count": 4,
   "metadata": {},
   "outputs": [],
   "source": [
    "####Very Very Important and Useful\n",
    "import pyvips\n",
    "FILE = 'data/outputs/norm_png/NA4626-02_AB.png'\n",
    "image = pyvips.Image.new_from_file(FILE)\n",
    "#image = pyvips.Image.new_from_file(FILE, access='sequential')\n",
    "# print(image)\n",
    "# out = image.extract_area(10000,10000,256,256)\n",
    "# print(out)\n",
    "# SAVE_DENSE_DIR = 'data/outputs/norm_png'\n",
    "# FILENAME = 'test'\n",
    "# i = 0\n",
    "\n",
    "# name = SAVE_DENSE_DIR + '/'+ FILENAME + str(i) + '.png'\n",
    "# #out.write_to_file('data/outputs/norm_png/test.png')\n",
    "# out.write_to_file(name)"
   ]
  },
  {
   "cell_type": "code",
   "execution_count": 5,
   "metadata": {},
   "outputs": [
    {
     "name": "stdout",
     "output_type": "stream",
     "text": [
      "<pyvips.Image 49152x43008 uchar, 3 bands, srgb>\n",
      "<pyvips.Image 49152x43008 uchar, 3 bands, srgb>\n"
     ]
    }
   ],
   "source": [
    "print(image)\n",
    "print(image)"
   ]
  },
  {
   "cell_type": "code",
   "execution_count": 6,
   "metadata": {},
   "outputs": [
    {
     "name": "stdout",
     "output_type": "stream",
     "text": [
      "<PIL.PngImagePlugin.PngImageFile image mode=RGB size=256x256 at 0x7F74C3CCD320>\n"
     ]
    }
   ],
   "source": [
    "# from PIL import Image\n",
    "# im = Image.open('data/outputs/norm_png/test.png')\n",
    "# im.show()\n",
    "# print(im)"
   ]
  },
  {
   "cell_type": "code",
   "execution_count": 7,
   "metadata": {},
   "outputs": [
    {
     "name": "stdout",
     "output_type": "stream",
     "text": [
      "8300\n",
      "55.333333333333336\n",
      "13300\n",
      "6650\n"
     ]
    }
   ],
   "source": [
    "print(11000-2700)\n",
    "print(8300/150)\n",
    "print(28000-14700)\n",
    "print(133*50)"
   ]
  },
  {
   "cell_type": "code",
   "execution_count": 6,
   "metadata": {},
   "outputs": [],
   "source": [
    "import os\n",
    "SAVE_DENSE_DIR = 'data/ds/dense/NA4626-02_AB'\n",
    "if not os.path.exists(SAVE_DENSE_DIR):\n",
    "    os.makedirs(SAVE_DENSE_DIR)\n",
    "# FILE = 'data/outputs/norm_png/NA4626-02_AB.png'\n",
    "FILENAME = 'd'\n",
    "i = 0\n",
    "\n",
    "#Dense Area(Left)\n",
    "#2700，14700   11000，14700\n",
    "#2700，28000   11000，28000\n",
    "x_left = 2700\n",
    "y_top = 14700\n",
    "\n",
    "for x in range(50):\n",
    "    for y in range(133):\n",
    "        x1 = x_left + x*150\n",
    "        y1 = y_top + y*100\n",
    "        img = image.extract_area(x1,y1,256,256)\n",
    "        name = SAVE_DENSE_DIR + '/'+ FILENAME + str(i) + '.png'\n",
    "        i = i + 1\n",
    "        img.write_to_file(name)\n",
    "#6650 small images generated\n",
    "        \n",
    "        "
   ]
  },
  {
   "cell_type": "code",
   "execution_count": 16,
   "metadata": {},
   "outputs": [
    {
     "name": "stdout",
     "output_type": "stream",
     "text": [
      "6650\n"
     ]
    }
   ],
   "source": [
    "print(i)"
   ]
  },
  {
   "cell_type": "code",
   "execution_count": 20,
   "metadata": {},
   "outputs": [
    {
     "name": "stdout",
     "output_type": "stream",
     "text": [
      "8300\n",
      "15400\n",
      "77.0\n",
      "6391\n"
     ]
    }
   ],
   "source": [
    "##sparse\n",
    "#11200,21000   19500,21000\n",
    "#11200,36400   19500,36400\n",
    "print(19500-11200)\n",
    "print(36400-21000)\n",
    "print(15400/200)\n",
    "print(83*77)"
   ]
  },
  {
   "cell_type": "code",
   "execution_count": 7,
   "metadata": {},
   "outputs": [],
   "source": [
    "import os\n",
    "SAVE_DENSE_DIR = 'data/ds/sparse/NA4626-02_AB'\n",
    "if not os.path.exists(SAVE_DENSE_DIR):\n",
    "    os.makedirs(SAVE_DENSE_DIR)\n",
    "# FILE = 'data/outputs/norm_png/NA4626-02_AB.png'\n",
    "FILENAME = 's'\n",
    "i = 0\n",
    "\n",
    "#Sparse Area(Left)\n",
    "#11200,21000   19500,21000\n",
    "#11200,36400   19500,36400\n",
    "x_left = 11200\n",
    "y_top = 21000\n",
    "\n",
    "for x in range(83):\n",
    "    for y in range(77):\n",
    "        x1 = x_left + x*100\n",
    "        y1 = y_top + y*200\n",
    "        img = image.extract_area(x1,y1,256,256)\n",
    "        name = SAVE_DENSE_DIR + '/'+ FILENAME + str(i) + '.png'\n",
    "        i = i + 1\n",
    "        img.write_to_file(name)"
   ]
  },
  {
   "cell_type": "code",
   "execution_count": null,
   "metadata": {},
   "outputs": [],
   "source": []
  },
  {
   "cell_type": "code",
   "execution_count": null,
   "metadata": {},
   "outputs": [],
   "source": []
  },
  {
   "cell_type": "code",
   "execution_count": null,
   "metadata": {},
   "outputs": [],
   "source": []
  },
  {
   "cell_type": "code",
   "execution_count": null,
   "metadata": {},
   "outputs": [],
   "source": []
  },
  {
   "cell_type": "code",
   "execution_count": null,
   "metadata": {},
   "outputs": [],
   "source": []
  },
  {
   "cell_type": "code",
   "execution_count": 44,
   "metadata": {},
   "outputs": [],
   "source": [
    "import time, os, glob\n",
    "\n",
    "import torch\n",
    "torch.manual_seed(123456789)\n",
    "import torch.nn as nn\n",
    "from torch.autograd import Variable\n",
    "import torch.nn.functional as F\n",
    "import torchvision\n",
    "from torchvision import transforms\n",
    "\n",
    "import numpy as np\n",
    "import matplotlib\n",
    "matplotlib.use('PDF')   # for heatmap with original\n",
    "import matplotlib.pyplot as plt\n",
    "from mpl_toolkits.axes_grid1 import make_axes_locatable\n",
    "from PIL import Image\n",
    "from tqdm import tqdm\n",
    "import copy"
   ]
  },
  {
   "cell_type": "code",
   "execution_count": 45,
   "metadata": {},
   "outputs": [],
   "source": [
    "import pyvips as Vips\n",
    "\n",
    "# map vips formats to np dtypes\n",
    "format_to_dtype = {\n",
    "    'uchar': np.uint8,\n",
    "    'char': np.int8,\n",
    "    'ushort': np.uint8,\n",
    "    'short': np.int8,\n",
    "    'uint': np.uint8,\n",
    "    'int': np.int8,\n",
    "    'float': np.float16,\n",
    "    'double': np.float16,\n",
    "    'complex': np.complex64,\n",
    "    'dpcomplex': np.complex64,\n",
    "}\n",
    "\n",
    "# vips image to numpy array\n",
    "def vips2numpy(vi):\n",
    "    return np.ndarray(buffer=vi.write_to_memory(),\n",
    "                      dtype=format_to_dtype[vi.format],\n",
    "                      shape=[vi.height, vi.width, vi.bands])\n",
    "\n",
    "FILE = 'data/outputs/norm_png/NA4626-02_AB.png'\n",
    "#vips_img = Vips.Image.new_from_file(FILE, level=0)\n",
    "vips_img = Vips.Image.new_from_file(FILE)\n",
    "orig_img = vips2numpy(vips_img)\n"
   ]
  },
  {
   "cell_type": "code",
   "execution_count": 18,
   "metadata": {},
   "outputs": [
    {
     "name": "stdout",
     "output_type": "stream",
     "text": [
      "<PIL.Image.Image image mode=RGB size=256x256 at 0x7F94600400F0>\n"
     ]
    }
   ],
   "source": [
    "import cv2\n",
    "new_img = orig_img[20000:20256,20000:20256,:]\n",
    "#import matplotlib\n",
    "#matplotlib.image.imsave('name.png', new_img)\n",
    "im = Image.fromarray(new_img)# numpy to image\n",
    "im.show()\n",
    "\n",
    "#cv2.waitKey() \n",
    "print(im)\n",
    "#im.show()\n",
    "\n",
    "import matplotlib.pyplot as plt\n",
    "plt.imshow(im)\n",
    "plt.show()"
   ]
  },
  {
   "cell_type": "code",
   "execution_count": 19,
   "metadata": {},
   "outputs": [],
   "source": [
    "\n",
    "import matplotlib.pyplot as plt\n",
    "new_img = orig_img[10000:10256,10000:10256,:]\n",
    "\n",
    "plt.imshow(new_img)\n",
    "plt.show()"
   ]
  },
  {
   "cell_type": "code",
   "execution_count": 20,
   "metadata": {},
   "outputs": [
    {
     "ename": "DecompressionBombError",
     "evalue": "Image size (2113929216 pixels) exceeds limit of 178956970 pixels, could be decompression bomb DOS attack.",
     "output_type": "error",
     "traceback": [
      "\u001b[0;31m---------------------------------------------------------------------------\u001b[0m",
      "\u001b[0;31mDecompressionBombError\u001b[0m                    Traceback (most recent call last)",
      "\u001b[0;32m<ipython-input-20-9c358d75023d>\u001b[0m in \u001b[0;36m<module>\u001b[0;34m\u001b[0m\n\u001b[1;32m      1\u001b[0m \u001b[0;32mfrom\u001b[0m \u001b[0mPIL\u001b[0m \u001b[0;32mimport\u001b[0m \u001b[0mImage\u001b[0m\u001b[0;34m\u001b[0m\u001b[0;34m\u001b[0m\u001b[0m\n\u001b[0;32m----> 2\u001b[0;31m \u001b[0mim\u001b[0m \u001b[0;34m=\u001b[0m \u001b[0mImage\u001b[0m\u001b[0;34m.\u001b[0m\u001b[0mopen\u001b[0m\u001b[0;34m(\u001b[0m\u001b[0mFILE\u001b[0m\u001b[0;34m)\u001b[0m\u001b[0;34m\u001b[0m\u001b[0;34m\u001b[0m\u001b[0m\n\u001b[0m\u001b[1;32m      3\u001b[0m \u001b[0mim\u001b[0m\u001b[0;34m.\u001b[0m\u001b[0mshow\u001b[0m\u001b[0;34m(\u001b[0m\u001b[0;34m)\u001b[0m\u001b[0;34m\u001b[0m\u001b[0;34m\u001b[0m\u001b[0m\n",
      "\u001b[0;32m/usr/local/lib/python3.6/dist-packages/PIL/Image.py\u001b[0m in \u001b[0;36mopen\u001b[0;34m(fp, mode)\u001b[0m\n\u001b[1;32m   2806\u001b[0m         \u001b[0;32mreturn\u001b[0m \u001b[0;32mNone\u001b[0m\u001b[0;34m\u001b[0m\u001b[0;34m\u001b[0m\u001b[0m\n\u001b[1;32m   2807\u001b[0m \u001b[0;34m\u001b[0m\u001b[0m\n\u001b[0;32m-> 2808\u001b[0;31m     \u001b[0mim\u001b[0m \u001b[0;34m=\u001b[0m \u001b[0m_open_core\u001b[0m\u001b[0;34m(\u001b[0m\u001b[0mfp\u001b[0m\u001b[0;34m,\u001b[0m \u001b[0mfilename\u001b[0m\u001b[0;34m,\u001b[0m \u001b[0mprefix\u001b[0m\u001b[0;34m)\u001b[0m\u001b[0;34m\u001b[0m\u001b[0;34m\u001b[0m\u001b[0m\n\u001b[0m\u001b[1;32m   2809\u001b[0m \u001b[0;34m\u001b[0m\u001b[0m\n\u001b[1;32m   2810\u001b[0m     \u001b[0;32mif\u001b[0m \u001b[0mim\u001b[0m \u001b[0;32mis\u001b[0m \u001b[0;32mNone\u001b[0m\u001b[0;34m:\u001b[0m\u001b[0;34m\u001b[0m\u001b[0;34m\u001b[0m\u001b[0m\n",
      "\u001b[0;32m/usr/local/lib/python3.6/dist-packages/PIL/Image.py\u001b[0m in \u001b[0;36m_open_core\u001b[0;34m(fp, filename, prefix)\u001b[0m\n\u001b[1;32m   2793\u001b[0m                     \u001b[0mfp\u001b[0m\u001b[0;34m.\u001b[0m\u001b[0mseek\u001b[0m\u001b[0;34m(\u001b[0m\u001b[0;36m0\u001b[0m\u001b[0;34m)\u001b[0m\u001b[0;34m\u001b[0m\u001b[0;34m\u001b[0m\u001b[0m\n\u001b[1;32m   2794\u001b[0m                     \u001b[0mim\u001b[0m \u001b[0;34m=\u001b[0m \u001b[0mfactory\u001b[0m\u001b[0;34m(\u001b[0m\u001b[0mfp\u001b[0m\u001b[0;34m,\u001b[0m \u001b[0mfilename\u001b[0m\u001b[0;34m)\u001b[0m\u001b[0;34m\u001b[0m\u001b[0;34m\u001b[0m\u001b[0m\n\u001b[0;32m-> 2795\u001b[0;31m                     \u001b[0m_decompression_bomb_check\u001b[0m\u001b[0;34m(\u001b[0m\u001b[0mim\u001b[0m\u001b[0;34m.\u001b[0m\u001b[0msize\u001b[0m\u001b[0;34m)\u001b[0m\u001b[0;34m\u001b[0m\u001b[0;34m\u001b[0m\u001b[0m\n\u001b[0m\u001b[1;32m   2796\u001b[0m                     \u001b[0;32mreturn\u001b[0m \u001b[0mim\u001b[0m\u001b[0;34m\u001b[0m\u001b[0;34m\u001b[0m\u001b[0m\n\u001b[1;32m   2797\u001b[0m             \u001b[0;32mexcept\u001b[0m \u001b[0;34m(\u001b[0m\u001b[0mSyntaxError\u001b[0m\u001b[0;34m,\u001b[0m \u001b[0mIndexError\u001b[0m\u001b[0;34m,\u001b[0m \u001b[0mTypeError\u001b[0m\u001b[0;34m,\u001b[0m \u001b[0mstruct\u001b[0m\u001b[0;34m.\u001b[0m\u001b[0merror\u001b[0m\u001b[0;34m)\u001b[0m\u001b[0;34m:\u001b[0m\u001b[0;34m\u001b[0m\u001b[0;34m\u001b[0m\u001b[0m\n",
      "\u001b[0;32m/usr/local/lib/python3.6/dist-packages/PIL/Image.py\u001b[0m in \u001b[0;36m_decompression_bomb_check\u001b[0;34m(size)\u001b[0m\n\u001b[1;32m   2726\u001b[0m         raise DecompressionBombError(\n\u001b[1;32m   2727\u001b[0m             \u001b[0;34m\"Image size (%d pixels) exceeds limit of %d pixels, \"\u001b[0m\u001b[0;34m\u001b[0m\u001b[0;34m\u001b[0m\u001b[0m\n\u001b[0;32m-> 2728\u001b[0;31m             \u001b[0;34m\"could be decompression bomb DOS attack.\"\u001b[0m \u001b[0;34m%\u001b[0m \u001b[0;34m(\u001b[0m\u001b[0mpixels\u001b[0m\u001b[0;34m,\u001b[0m \u001b[0;36m2\u001b[0m \u001b[0;34m*\u001b[0m \u001b[0mMAX_IMAGE_PIXELS\u001b[0m\u001b[0;34m)\u001b[0m\u001b[0;34m\u001b[0m\u001b[0;34m\u001b[0m\u001b[0m\n\u001b[0m\u001b[1;32m   2729\u001b[0m         )\n\u001b[1;32m   2730\u001b[0m \u001b[0;34m\u001b[0m\u001b[0m\n",
      "\u001b[0;31mDecompressionBombError\u001b[0m: Image size (2113929216 pixels) exceeds limit of 178956970 pixels, could be decompression bomb DOS attack."
     ]
    }
   ],
   "source": [
    "from PIL import Image\n",
    "im = Image.open(FILE)\n",
    "im.show()"
   ]
  },
  {
   "cell_type": "code",
   "execution_count": 43,
   "metadata": {},
   "outputs": [
    {
     "name": "stdout",
     "output_type": "stream",
     "text": [
      "<pyvips.Image 49152x43008 uchar, 3 bands, srgb>\n",
      "<pyvips.Image 256x256 uchar, 3 bands, srgb>\n"
     ]
    }
   ],
   "source": [
    "import pyvips\n",
    "image = pyvips.Image.new_from_file(FILE)\n",
    "#image = pyvips.Image.new_from_file(FILE, access='sequential')\n",
    "print(image)\n",
    "out = image.extract_area(10000,10000,256,256)\n",
    "print(out)\n",
    "out.write_to_file('data/outputs/norm_png/test.png')\n"
   ]
  },
  {
   "cell_type": "code",
   "execution_count": 39,
   "metadata": {},
   "outputs": [],
   "source": [
    "import matplotlib.pyplot as plt # plt 用于显示图片\n",
    "import matplotlib.image as mpimg # mpimg 用于读取图片\n",
    "import numpy as np\n",
    "img = mpimg.imread('test.png') \n",
    "plt.imshow(img) # 显示图片\n",
    "plt.axis('off') # 不显示坐标轴\n",
    "plt.show()"
   ]
  },
  {
   "cell_type": "code",
   "execution_count": null,
   "metadata": {},
   "outputs": [],
   "source": []
  }
 ],
 "metadata": {
  "kernelspec": {
   "display_name": "Python 3",
   "language": "python",
   "name": "python3"
  },
  "language_info": {
   "codemirror_mode": {
    "name": "ipython",
    "version": 3
   },
   "file_extension": ".py",
   "mimetype": "text/x-python",
   "name": "python",
   "nbconvert_exporter": "python",
   "pygments_lexer": "ipython3",
   "version": "3.6.8"
  }
 },
 "nbformat": 4,
 "nbformat_minor": 2
}
