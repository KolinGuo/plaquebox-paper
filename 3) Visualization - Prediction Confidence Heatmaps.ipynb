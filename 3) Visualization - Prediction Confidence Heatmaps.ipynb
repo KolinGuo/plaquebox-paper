{
 "cells": [
  {
   "cell_type": "markdown",
   "metadata": {},
   "source": [
    "### 3 Visualization - Prediction Confidence Heatmaps\n",
    "\n",
    "A sliding window approach was applied on the whole slide images (WSIs) with the trained CNN model to generate confidence heatmaps. \n",
    "\n",
    "The WSIs were tiled into 1536 x 1536 images patches in the prepocessing steps. A sliding window approached was applied on evey image patch of a WSI. At each time, the CNN model took a 256x256 pixels region as input, forward propagated and generated a prediction score for cored plaque, diffuse plaque and CAA respectively. By systematically sliding the input region across the entire 1536 x 1536 image patch, the prediction scores were saved and ploted as prediction confidence heatmap for this patch. The heatmap for the WSI was obtained by doing this on all image patches of it."
   ]
  },
  {
   "cell_type": "code",
   "execution_count": 1,
   "metadata": {},
   "outputs": [],
   "source": [
    "import time, os, glob\n",
    "\n",
    "import torch\n",
    "torch.manual_seed(123456789)\n",
    "import torch.nn as nn\n",
    "from torch.autograd import Variable\n",
    "import torch.nn.functional as F\n",
    "import torchvision\n",
    "from torchvision import transforms\n",
    "\n",
    "import numpy as np\n",
    "import matplotlib\n",
    "matplotlib.use('PDF')   # for heatmap with original\n",
    "import matplotlib.pyplot as plt\n",
    "from mpl_toolkits.axes_grid1 import make_axes_locatable\n",
    "from PIL import Image\n",
    "from tqdm import tqdm\n",
    "import copy"
   ]
  },
  {
   "cell_type": "code",
   "execution_count": 2,
   "metadata": {},
   "outputs": [],
   "source": [
    "IMG_DIR  = 'data/norm_tiles/'\n",
    "MODEL_DIR = 'models/CNN_model_parameters.pkl'\n",
    "SAVE_DIR = 'data/outputs/heatmaps/'"
   ]
  },
  {
   "cell_type": "code",
   "execution_count": 7,
   "metadata": {},
   "outputs": [],
   "source": [
    "if not os.path.exists(SAVE_DIR):\n",
    "        os.makedirs(SAVE_DIR)"
   ]
  },
  {
   "cell_type": "code",
   "execution_count": 8,
   "metadata": {},
   "outputs": [
    {
     "name": "stdout",
     "output_type": "stream",
     "text": [
      "['NA3777-02_AB', 'NA4077-02_AB', 'NA4092-02_AB', 'NA4107-02_AB', 'NA4160-02_AB', 'NA4195-02_AB', 'NA4256-02_AB', 'NA4299-02_AB', 'NA4391-02_AB', 'NA4450-02_AB', 'NA4463-02_AB', 'NA4471-02_AB', 'NA4553-02_AB', 'NA4626-02_AB', 'NA4672-02_AB', 'NA4675-02_AB', 'NA4691-02_AB', 'NA4695-02_AB']\n"
     ]
    }
   ],
   "source": [
    "img_size = 1536\n",
    "stride = 16\n",
    "batch_size = 64\n",
    "num_workers = 16\n",
    "\n",
    "norm = np.load('utils/normalization.npy', allow_pickle=True).item()\n",
    "normalize = transforms.Normalize(norm['mean'], norm['std'])\n",
    "to_tensor = transforms.ToTensor()\n",
    "use_gpu = torch.cuda.is_available()\n",
    "\n",
    "filenames = glob.glob(IMG_DIR + '*')\n",
    "filenames = [filename.split('/')[-1] for filename in filenames]\n",
    "print(filenames)"
   ]
  },
  {
   "cell_type": "code",
   "execution_count": 6,
   "metadata": {},
   "outputs": [],
   "source": [
    "from torch.utils.data import Dataset\n",
    "\n",
    "class HeatmapDataset(Dataset):\n",
    "    def __init__(self, tile_dir, row, col, stride=1):\n",
    "        \"\"\"\n",
    "        Args:\n",
    "            tile_dir (string): path to the folder where tiles are\n",
    "            row (int): row index of the tile being operated\n",
    "            col (int): column index of the tile being operated\n",
    "            stride: stride of sliding \n",
    "        \"\"\"\n",
    "        self.tile_size = 256\n",
    "        self.img_size = 1536\n",
    "        self.stride = stride\n",
    "        padding = 128\n",
    "        large_img = torch.ones(3, 3*self.img_size, 3*self.img_size)\n",
    "        \n",
    "        for i in [-1,0,1]:\n",
    "            for j in [-1,0,1]:\n",
    "                img_path = tile_dir+'/'+str(row+i)+'/'+str(col+j)+'.jpg'\n",
    "                try:\n",
    "                    img = Image.open(img_path)\n",
    "                    img = transforms.ToTensor()(img) \n",
    "                except:\n",
    "                    img = torch.ones(3,self.img_size, self.img_size)\n",
    "                \n",
    "                large_img[:, (i+1)*self.img_size:(i+2)*self.img_size,(j+1)*self.img_size:(j+2)*self.img_size] = img\n",
    "        \n",
    "        large_img = normalize(large_img)\n",
    "        \n",
    "        self.padding_img = large_img[:,self.img_size-padding:2*self.img_size+padding, self.img_size-padding:2*self.img_size+padding]\n",
    "        self.len = (self.img_size//self.stride)**2\n",
    "        \n",
    "    def __getitem__(self, index):\n",
    "\n",
    "        row = (index*self.stride // self.img_size)*self.stride\n",
    "        col = (index*self.stride % self.img_size)\n",
    "\n",
    "        img = self.padding_img[:, row:row+self.tile_size, col:col+self.tile_size]        \n",
    "    \n",
    "        return img\n",
    "\n",
    "    def __len__(self):\n",
    "        return self.len"
   ]
  },
  {
   "cell_type": "code",
   "execution_count": 7,
   "metadata": {},
   "outputs": [],
   "source": [
    "class Net(nn.Module):\n",
    "\n",
    "    def __init__(self, fc_nodes=512, num_classes=3, dropout=0.5):\n",
    "        super(Net, self).__init__()\n",
    "        \n",
    "    def forward(self, x):\n",
    " \n",
    "        x = self.features(x)\n",
    "        x = x.view(x.size(0), -1)\n",
    "        x = self.classifier(x)\n",
    "\n",
    "        return x\n"
   ]
  },
  {
   "cell_type": "code",
   "execution_count": 8,
   "metadata": {},
   "outputs": [
    {
     "name": "stderr",
     "output_type": "stream",
     "text": [
      "/usr/local/lib/python3.6/dist-packages/torch/serialization.py:325: SourceChangeWarning: source code of class 'torch.nn.parallel.data_parallel.DataParallel' has changed. you can retrieve the original source code by accessing the object's source attribute or set `torch.nn.Module.dump_patches = True` and use the patch tool to revert the changes.\n",
      "  warnings.warn(msg, SourceChangeWarning)\n",
      "/usr/local/lib/python3.6/dist-packages/torch/serialization.py:325: SourceChangeWarning: source code of class 'torch.nn.modules.conv.Conv2d' has changed. you can retrieve the original source code by accessing the object's source attribute or set `torch.nn.Module.dump_patches = True` and use the patch tool to revert the changes.\n",
      "  warnings.warn(msg, SourceChangeWarning)\n",
      "/usr/local/lib/python3.6/dist-packages/torch/serialization.py:325: SourceChangeWarning: source code of class 'torch.nn.modules.pooling.MaxPool2d' has changed. you can retrieve the original source code by accessing the object's source attribute or set `torch.nn.Module.dump_patches = True` and use the patch tool to revert the changes.\n",
      "  warnings.warn(msg, SourceChangeWarning)\n",
      "/usr/local/lib/python3.6/dist-packages/torch/serialization.py:325: SourceChangeWarning: source code of class 'torch.nn.modules.linear.Linear' has changed. you can retrieve the original source code by accessing the object's source attribute or set `torch.nn.Module.dump_patches = True` and use the patch tool to revert the changes.\n",
      "  warnings.warn(msg, SourceChangeWarning)\n"
     ]
    }
   ],
   "source": [
    "# instatiate the model\n",
    "model = torch.load(MODEL_DIR, map_location=lambda storage, loc: storage)\n",
    "\n",
    "if use_gpu:\n",
    "    model = model.module.cuda()\n",
    "else:\n",
    "    model = model.module"
   ]
  },
  {
   "cell_type": "code",
   "execution_count": 9,
   "metadata": {},
   "outputs": [
    {
     "name": "stderr",
     "output_type": "stream",
     "text": [
      "100%|██████████| 31/31 [3:33:30<00:00, 413.13s/it]  \n",
      "100%|██████████| 31/31 [4:46:35<00:00, 554.30s/it]  \n",
      "100%|██████████| 30/30 [4:08:48<00:00, 497.01s/it]  \n",
      "100%|██████████| 24/24 [3:28:29<00:00, 520.93s/it]  \n",
      "100%|██████████| 28/28 [3:31:15<00:00, 451.39s/it]  \n",
      "100%|██████████| 26/26 [3:06:01<00:00, 428.86s/it]  \n",
      "100%|██████████| 31/31 [4:06:03<00:00, 475.39s/it]  \n",
      "100%|██████████| 29/29 [3:32:55<00:00, 438.90s/it]  \n",
      "100%|██████████| 31/31 [3:17:14<00:00, 380.40s/it]  \n",
      "100%|██████████| 31/31 [3:46:51<00:00, 438.42s/it]  \n",
      "100%|██████████| 30/30 [3:27:50<00:00, 414.05s/it]  \n",
      "100%|██████████| 24/24 [3:27:35<00:00, 518.81s/it]  \n",
      "100%|██████████| 31/31 [4:28:40<00:00, 520.70s/it]  \n",
      "100%|██████████| 28/28 [2:52:43<00:00, 369.05s/it]  \n",
      "100%|██████████| 24/24 [2:32:36<00:00, 381.16s/it]  \n",
      "100%|██████████| 30/30 [3:28:48<00:00, 417.01s/it]  \n",
      "100%|██████████| 27/27 [3:07:59<00:00, 416.84s/it]  \n",
      "100%|██████████| 28/28 [3:20:25<00:00, 428.30s/it]  \n"
     ]
    }
   ],
   "source": [
    "for filename in filenames:\n",
    "    TILE_DIR = IMG_DIR+'{}/0/'.format(filename)\n",
    "\n",
    "    imgs = []\n",
    "    for target in sorted(os.listdir(TILE_DIR)):\n",
    "        d = os.path.join(TILE_DIR, target)\n",
    "        if not os.path.isdir(d):\n",
    "            continue\n",
    "\n",
    "        for root, _, fnames in sorted(os.walk(d)):\n",
    "            for fname in sorted(fnames):\n",
    "                if fname.endswith('.jpg'):\n",
    "                    path = os.path.join(root, fname)\n",
    "                    imgs.append(path)\n",
    "\n",
    "    rows = [int(image.split('/')[-2]) for image in imgs]\n",
    "    row_nums = max(rows) + 1\n",
    "    cols = [int(image.split('/')[-1].split('.')[0]) for image in imgs]\n",
    "    col_nums = max(cols) +1    \n",
    "    \n",
    "    heatmap_res = img_size // stride\n",
    "    final_output = np.zeros((3, heatmap_res*row_nums, heatmap_res*col_nums))\n",
    "\n",
    "    model.train(False)  # Set model to evaluate mode\n",
    "\n",
    "    for row in tqdm(range(row_nums)):\n",
    "        for col in range(col_nums):\n",
    "\n",
    "            image_datasets = HeatmapDataset(TILE_DIR, row, col, stride=stride)\n",
    "            dataloader = torch.utils.data.DataLoader(image_datasets, batch_size=batch_size,\n",
    "                                                 shuffle=False, num_workers=num_workers)\n",
    "\n",
    "            running_preds = torch.Tensor(0)\n",
    "            for data in dataloader:\n",
    "                # get the inputs\n",
    "                inputs = data\n",
    "                # wrap them in Variable\n",
    "                if use_gpu:\n",
    "                    inputs = Variable(inputs.cuda(), volatile=True)\n",
    "                    # forward\n",
    "                    outputs = model(inputs)\n",
    "                    preds = F.sigmoid(outputs) #posibility for each class\n",
    "                    preds = preds.data.cpu()\n",
    "                    running_preds = torch.cat([running_preds, preds])\n",
    "\n",
    "            cored = np.asarray(running_preds[:,0]).reshape(img_size//stride,img_size//stride)\n",
    "            diffuse = np.asarray(running_preds[:,1]).reshape(img_size//stride,img_size//stride)\n",
    "            caa = np.asarray(running_preds[:,2]).reshape(img_size//stride,img_size//stride)\n",
    "\n",
    "            final_output[0, row*heatmap_res:(row+1)*heatmap_res, col*heatmap_res:(col+1)*heatmap_res] = cored\n",
    "            final_output[1, row*heatmap_res:(row+1)*heatmap_res, col*heatmap_res:(col+1)*heatmap_res] = diffuse\n",
    "            final_output[2, row*heatmap_res:(row+1)*heatmap_res, col*heatmap_res:(col+1)*heatmap_res] = caa\n",
    "\n",
    "    np.save(SAVE_DIR+filename, final_output)"
   ]
  },
  {
   "cell_type": "code",
   "execution_count": 10,
   "metadata": {},
   "outputs": [
    {
     "data": {
      "text/plain": [
       "<matplotlib.colorbar.Colorbar at 0x7f8e1be44470>"
      ]
     },
     "execution_count": 10,
     "metadata": {},
     "output_type": "execute_result"
    },
    {
     "data": {
      "image/png": "[encoded data removed]",
      "text/plain": [
       "<Figure size 3240x1080 with 6 Axes>"
      ]
     },
     "metadata": {
      "needs_background": "light"
     },
     "output_type": "display_data"
    }
   ],
   "source": [
    "fig = plt.figure(figsize=(45,15))\n",
    "    \n",
    "ax = fig.add_subplot(311)\n",
    "\n",
    "im = ax.imshow(final_output[0], cmap=plt.cm.get_cmap('viridis', 20), vmin=0, vmax=1)\n",
    "divider = make_axes_locatable(ax)\n",
    "cax = divider.append_axes(\"right\", size=\"5%\", pad=0.1)\n",
    "plt.colorbar(im, cax=cax, ticks=[0.0, 0.25, 0.5, 0.75, 1.0])\n",
    "\n",
    "ax = fig.add_subplot(312)\n",
    "\n",
    "im = ax.imshow(final_output[1], cmap=plt.cm.get_cmap('viridis', 20), vmin=0, vmax=1)\n",
    "divider = make_axes_locatable(ax)\n",
    "cax = divider.append_axes(\"right\", size=\"5%\", pad=0.1)\n",
    "plt.colorbar(im, cax=cax, ticks=[0.0, 0.25, 0.5, 0.75, 1.0])\n",
    "\n",
    "ax = fig.add_subplot(313)\n",
    "\n",
    "im = ax.imshow(final_output[2], cmap=plt.cm.get_cmap('viridis', 20), vmin=0, vmax=1)\n",
    "divider = make_axes_locatable(ax)\n",
    "cax = divider.append_axes(\"right\", size=\"5%\", pad=0.1)\n",
    "plt.colorbar(im, cax=cax, ticks=[0.0, 0.25, 0.5, 0.75, 1.0])"
   ]
  },
  {
   "cell_type": "code",
   "execution_count": 3,
   "metadata": {},
   "outputs": [
    {
     "name": "stderr",
     "output_type": "stream",
     "text": [
      "Image 0 shape: (3, 2976, 3456):   0%|          | 0/18 [00:00<?, ?it/s]"
     ]
    },
    {
     "name": "stdout",
     "output_type": "stream",
     "text": [
      " "
     ]
    },
    {
     "name": "stderr",
     "output_type": "stream",
     "text": [
      "Image 1 shape: (3, 2976, 4608):   6%|▌         | 1/18 [01:49<30:55, 109.14s/it]"
     ]
    },
    {
     "name": "stdout",
     "output_type": "stream",
     "text": [
      " "
     ]
    },
    {
     "name": "stderr",
     "output_type": "stream",
     "text": [
      "Image 2 shape: (3, 2880, 4128):  11%|█         | 2/18 [03:45<29:30, 110.66s/it]"
     ]
    },
    {
     "name": "stdout",
     "output_type": "stream",
     "text": [
      " "
     ]
    },
    {
     "name": "stderr",
     "output_type": "stream",
     "text": [
      "Image 3 shape: (3, 2304, 4320):  17%|█▋        | 3/18 [05:37<27:49, 111.33s/it]"
     ]
    },
    {
     "name": "stdout",
     "output_type": "stream",
     "text": [
      " "
     ]
    },
    {
     "name": "stderr",
     "output_type": "stream",
     "text": [
      "Image 4 shape: (3, 2688, 3744):  22%|██▏       | 4/18 [07:29<25:57, 111.26s/it]"
     ]
    },
    {
     "name": "stdout",
     "output_type": "stream",
     "text": [
      " "
     ]
    },
    {
     "name": "stderr",
     "output_type": "stream",
     "text": [
      "Image 5 shape: (3, 2496, 3552):  28%|██▊       | 5/18 [09:19<24:03, 111.02s/it]"
     ]
    },
    {
     "name": "stdout",
     "output_type": "stream",
     "text": [
      " "
     ]
    },
    {
     "name": "stderr",
     "output_type": "stream",
     "text": [
      "Image 6 shape: (3, 2976, 3936):  33%|███▎      | 6/18 [11:09<22:08, 110.71s/it]"
     ]
    },
    {
     "name": "stdout",
     "output_type": "stream",
     "text": [
      " "
     ]
    },
    {
     "name": "stderr",
     "output_type": "stream",
     "text": [
      "Image 7 shape: (3, 2784, 3648):  39%|███▉      | 7/18 [12:56<20:06, 109.64s/it]"
     ]
    },
    {
     "name": "stdout",
     "output_type": "stream",
     "text": [
      " "
     ]
    },
    {
     "name": "stderr",
     "output_type": "stream",
     "text": [
      "Image 8 shape: (3, 2976, 3168):  44%|████▍     | 8/18 [14:42<18:05, 108.53s/it]"
     ]
    },
    {
     "name": "stdout",
     "output_type": "stream",
     "text": [
      " "
     ]
    },
    {
     "name": "stderr",
     "output_type": "stream",
     "text": [
      "Image 9 shape: (3, 2976, 3648):  50%|█████     | 9/18 [16:26<16:02, 106.99s/it]"
     ]
    },
    {
     "name": "stdout",
     "output_type": "stream",
     "text": [
      " "
     ]
    },
    {
     "name": "stderr",
     "output_type": "stream",
     "text": [
      "Image 10 shape: (3, 2880, 3456):  56%|█████▌    | 10/18 [18:11<14:11, 106.41s/it]"
     ]
    },
    {
     "name": "stdout",
     "output_type": "stream",
     "text": [
      " "
     ]
    },
    {
     "name": "stderr",
     "output_type": "stream",
     "text": [
      "Image 11 shape: (3, 2304, 4320):  61%|██████    | 11/18 [19:54<12:18, 105.54s/it]"
     ]
    },
    {
     "name": "stdout",
     "output_type": "stream",
     "text": [
      " "
     ]
    },
    {
     "name": "stderr",
     "output_type": "stream",
     "text": [
      "Image 12 shape: (3, 2976, 4320):  67%|██████▋   | 12/18 [21:45<10:42, 107.12s/it]"
     ]
    },
    {
     "name": "stdout",
     "output_type": "stream",
     "text": [
      " "
     ]
    },
    {
     "name": "stderr",
     "output_type": "stream",
     "text": [
      "Image 13 shape: (3, 2688, 3072):  72%|███████▏  | 13/18 [23:33<08:58, 107.61s/it]"
     ]
    },
    {
     "name": "stdout",
     "output_type": "stream",
     "text": [
      " "
     ]
    },
    {
     "name": "stderr",
     "output_type": "stream",
     "text": [
      "Image 14 shape: (3, 2304, 3168):  78%|███████▊  | 14/18 [25:17<07:06, 106.58s/it]"
     ]
    },
    {
     "name": "stdout",
     "output_type": "stream",
     "text": [
      " "
     ]
    },
    {
     "name": "stderr",
     "output_type": "stream",
     "text": [
      "Image 15 shape: (3, 2880, 3456):  83%|████████▎ | 15/18 [27:07<05:22, 107.48s/it]"
     ]
    },
    {
     "name": "stdout",
     "output_type": "stream",
     "text": [
      " "
     ]
    },
    {
     "name": "stderr",
     "output_type": "stream",
     "text": [
      "Image 16 shape: (3, 2592, 3456):  89%|████████▉ | 16/18 [28:56<03:35, 107.88s/it]"
     ]
    },
    {
     "name": "stdout",
     "output_type": "stream",
     "text": [
      " "
     ]
    },
    {
     "name": "stderr",
     "output_type": "stream",
     "text": [
      "Image 17 shape: (3, 2688, 3552):  94%|█████████▍| 17/18 [30:45<01:48, 108.53s/it]"
     ]
    },
    {
     "name": "stdout",
     "output_type": "stream",
     "text": [
      " "
     ]
    },
    {
     "name": "stderr",
     "output_type": "stream",
     "text": [
      "Image 17 shape: (3, 2688, 3552): 100%|██████████| 18/18 [32:32<00:00, 108.35s/it]\n"
     ]
    }
   ],
   "source": [
    "# Save Heatmaps to Image Files\n",
    "SAVE_PNG_DIR = 'data/outputs/heatmaps_png/'\n",
    "if not os.path.exists(SAVE_PNG_DIR):\n",
    "        os.makedirs(SAVE_PNG_DIR)\n",
    "\n",
    "filenames = glob.glob(SAVE_DIR + '*')\n",
    "filenames = [filename.split('/')[-1] for filename in filenames]\n",
    "\n",
    "t = tqdm(total=len(filenames))\n",
    "for i, filename in enumerate(filenames):\n",
    "    # heatmaps[0] = cored, heatmaps[1] = diffuse, heatmaps[2] = caa\n",
    "    heatmaps = np.load(SAVE_DIR+filename)\n",
    "    t.set_description_str(\"Image \" + str(i) + \" shape: \" + str(heatmaps.shape))\n",
    "    t.refresh()\n",
    "    t.write(\"\", end=' ')\n",
    "    \n",
    "    fig = plt.figure(figsize=(45,15), dpi=1200)\n",
    "\n",
    "    ax = fig.add_subplot(311, title=\"Cored\")\n",
    "    im = plt.imshow(heatmaps[0], cmap=plt.cm.get_cmap('viridis', 20), vmin=0, vmax=1)\n",
    "    divider = make_axes_locatable(ax)\n",
    "    ax.set_axis_off()\n",
    "    cax = divider.append_axes(\"right\", size=\"5%\", pad=0.1)\n",
    "    plt.colorbar(im, cax=cax, ticks=[0.0, 0.25, 0.5, 0.75, 1.0])\n",
    "\n",
    "    ax = fig.add_subplot(312, title=\"Diffuse\")\n",
    "    im = plt.imshow(heatmaps[1], cmap=plt.cm.get_cmap('viridis', 20), vmin=0, vmax=1)\n",
    "    divider = make_axes_locatable(ax)\n",
    "    ax.set_axis_off()\n",
    "    cax = divider.append_axes(\"right\", size=\"5%\", pad=0.1)\n",
    "    plt.colorbar(im, cax=cax, ticks=[0.0, 0.25, 0.5, 0.75, 1.0])\n",
    "\n",
    "    ax = fig.add_subplot(313, title=\"CAA\")\n",
    "    im = plt.imshow(heatmaps[2], cmap=plt.cm.get_cmap('viridis', 20), vmin=0, vmax=1)\n",
    "    divider = make_axes_locatable(ax)\n",
    "    ax.set_axis_off()\n",
    "    cax = divider.append_axes(\"right\", size=\"5%\", pad=0.1)\n",
    "    plt.colorbar(im, cax=cax, ticks=[0.0, 0.25, 0.5, 0.75, 1.0])\n",
    "\n",
    "    fig.savefig(SAVE_PNG_DIR+filename.split('.')[0]+'.png', dpi=fig.dpi, bbox_inches='tight')\n",
    "    plt.close(fig)\n",
    "    t.update()\n",
    "t.close()"
   ]
  },
  {
   "cell_type": "code",
   "execution_count": 3,
   "metadata": {},
   "outputs": [
    {
     "name": "stderr",
     "output_type": "stream",
     "text": [
      "Image 0: (36, 31) (55296, 47616):   0%|          | 0/18 [00:00<?, ?it/s]"
     ]
    },
    {
     "name": "stdout",
     "output_type": "stream",
     "text": [
      " "
     ]
    },
    {
     "name": "stderr",
     "output_type": "stream",
     "text": [
      "Image 1: (48, 31) (73728, 47616):   6%|▌         | 1/18 [08:04<2:17:17, 484.58s/it]"
     ]
    },
    {
     "name": "stdout",
     "output_type": "stream",
     "text": [
      " "
     ]
    },
    {
     "name": "stderr",
     "output_type": "stream",
     "text": [
      "Image 2: (43, 30) (66048, 46080):  11%|█         | 2/18 [20:42<2:31:03, 566.48s/it]"
     ]
    },
    {
     "name": "stdout",
     "output_type": "stream",
     "text": [
      " "
     ]
    },
    {
     "name": "stderr",
     "output_type": "stream",
     "text": [
      "Image 3: (45, 24) (69120, 36864):  17%|█▋        | 3/18 [30:49<2:24:37, 578.52s/it]"
     ]
    },
    {
     "name": "stdout",
     "output_type": "stream",
     "text": [
      " "
     ]
    },
    {
     "name": "stderr",
     "output_type": "stream",
     "text": [
      "Image 4: (39, 28) (59904, 43008):  22%|██▏       | 4/18 [38:50<2:08:13, 549.54s/it]"
     ]
    },
    {
     "name": "stdout",
     "output_type": "stream",
     "text": [
      " "
     ]
    },
    {
     "name": "stderr",
     "output_type": "stream",
     "text": [
      "Image 5: (37, 26) (56832, 39936):  28%|██▊       | 5/18 [46:53<1:54:41, 529.33s/it]"
     ]
    },
    {
     "name": "stdout",
     "output_type": "stream",
     "text": [
      " "
     ]
    },
    {
     "name": "stderr",
     "output_type": "stream",
     "text": [
      "Image 6: (41, 31) (62976, 47616):  33%|███▎      | 6/18 [54:40<1:42:10, 510.86s/it]"
     ]
    },
    {
     "name": "stdout",
     "output_type": "stream",
     "text": [
      " "
     ]
    },
    {
     "name": "stderr",
     "output_type": "stream",
     "text": [
      "Image 7: (38, 29) (58368, 44544):  39%|███▉      | 7/18 [1:06:09<1:43:25, 564.15s/it]"
     ]
    },
    {
     "name": "stdout",
     "output_type": "stream",
     "text": [
      " "
     ]
    },
    {
     "name": "stderr",
     "output_type": "stream",
     "text": [
      "Image 8: (33, 31) (50688, 47616):  44%|████▍     | 8/18 [1:15:32<1:33:59, 563.93s/it]"
     ]
    },
    {
     "name": "stdout",
     "output_type": "stream",
     "text": [
      " "
     ]
    },
    {
     "name": "stderr",
     "output_type": "stream",
     "text": [
      "Image 9: (38, 31) (58368, 47616):  50%|█████     | 9/18 [1:23:37<1:21:01, 540.15s/it]"
     ]
    },
    {
     "name": "stdout",
     "output_type": "stream",
     "text": [
      " "
     ]
    },
    {
     "name": "stderr",
     "output_type": "stream",
     "text": [
      "Image 10: (36, 30) (55296, 46080):  56%|█████▌    | 10/18 [1:32:01<1:10:34, 529.31s/it]"
     ]
    },
    {
     "name": "stdout",
     "output_type": "stream",
     "text": [
      " "
     ]
    },
    {
     "name": "stderr",
     "output_type": "stream",
     "text": [
      "Image 11: (45, 24) (69120, 36864):  61%|██████    | 11/18 [1:40:36<1:01:16, 525.16s/it]"
     ]
    },
    {
     "name": "stdout",
     "output_type": "stream",
     "text": [
      " "
     ]
    },
    {
     "name": "stderr",
     "output_type": "stream",
     "text": [
      "Image 12: (45, 31) (69120, 47616):  67%|██████▋   | 12/18 [1:49:34<52:54, 529.01s/it]  "
     ]
    },
    {
     "name": "stdout",
     "output_type": "stream",
     "text": [
      " "
     ]
    },
    {
     "name": "stderr",
     "output_type": "stream",
     "text": [
      "Image 13: (32, 28) (49152, 43008):  72%|███████▏  | 13/18 [1:59:12<45:17, 543.54s/it]"
     ]
    },
    {
     "name": "stdout",
     "output_type": "stream",
     "text": [
      " "
     ]
    },
    {
     "name": "stderr",
     "output_type": "stream",
     "text": [
      "Image 14: (33, 24) (50688, 36864):  78%|███████▊  | 14/18 [2:06:07<33:39, 504.97s/it]"
     ]
    },
    {
     "name": "stdout",
     "output_type": "stream",
     "text": [
      " "
     ]
    },
    {
     "name": "stderr",
     "output_type": "stream",
     "text": [
      "Image 15: (36, 30) (55296, 46080):  83%|████████▎ | 15/18 [2:12:04<23:01, 460.48s/it]"
     ]
    },
    {
     "name": "stdout",
     "output_type": "stream",
     "text": [
      " "
     ]
    },
    {
     "name": "stderr",
     "output_type": "stream",
     "text": [
      "Image 16: (36, 27) (55296, 41472):  89%|████████▉ | 16/18 [2:19:59<15:29, 464.87s/it]"
     ]
    },
    {
     "name": "stdout",
     "output_type": "stream",
     "text": [
      " "
     ]
    },
    {
     "name": "stderr",
     "output_type": "stream",
     "text": [
      "Image 17: (37, 28) (56832, 43008):  94%|█████████▍| 17/18 [2:26:56<07:30, 450.68s/it]"
     ]
    },
    {
     "name": "stdout",
     "output_type": "stream",
     "text": [
      " "
     ]
    },
    {
     "name": "stderr",
     "output_type": "stream",
     "text": [
      "Image 17: (37, 28) (56832, 43008): 100%|██████████| 18/18 [2:34:22<00:00, 449.17s/it]\n"
     ]
    }
   ],
   "source": [
    "# Save Original Slides to Image Files by loading norm_tiles\n",
    "SAVE_ORIG_DIR = 'data/outputs/original_png/'\n",
    "if not os.path.exists(SAVE_ORIG_DIR):\n",
    "    os.makedirs(SAVE_ORIG_DIR)\n",
    "        \n",
    "filenames = glob.glob(IMG_DIR + '*')\n",
    "filenames = [filename.split('/')[-1] for filename in filenames]\n",
    "img_size = 1536\n",
    "\n",
    "t = tqdm(total=len(filenames))\n",
    "for i, filename in enumerate(filenames):\n",
    "    # Get image dimension\n",
    "    TILE_DIR = IMG_DIR+'{}/0/'.format(filename)\n",
    "    imgs = []\n",
    "    for target in sorted(os.listdir(TILE_DIR)):\n",
    "        d = os.path.join(TILE_DIR, target)\n",
    "        if not os.path.isdir(d):\n",
    "            continue\n",
    "        for root, _, fnames in sorted(os.walk(d)):\n",
    "            for fname in sorted(fnames):\n",
    "                if fname.endswith('.jpg'):\n",
    "                    path = os.path.join(root, fname)\n",
    "                    imgs.append(path)\n",
    "                    \n",
    "    rows = [int(image.split('/')[-2]) for image in imgs]\n",
    "    row_nums = max(rows) + 1\n",
    "    cols = [int(image.split('/')[-1].split('.')[0]) for image in imgs]\n",
    "    col_nums = max(cols) + 1\n",
    "    width = col_nums*img_size\n",
    "    height = row_nums*img_size\n",
    "    \n",
    "    t.set_description_str(\"Image \" + str(i) + ': ({}, {}) ({}, {})'.format(col_nums, row_nums, width, height))\n",
    "    t.refresh()\n",
    "    t.write(\"\", end=' ')\n",
    "    \n",
    "    # Generate WSI\n",
    "    orig_img = Image.new('RGB', (width, height))\n",
    "    for r in range(row_nums):\n",
    "        for c in range(col_nums):\n",
    "            img_path = TILE_DIR + '{}/{}.jpg'.format(r, c)\n",
    "            img = Image.open(img_path)\n",
    "            orig_img.paste(img, (c*img_size, r*img_size))\n",
    "\n",
    "    orig_img.save(SAVE_ORIG_DIR+filename+'.png')\n",
    "    \n",
    "    t.update()\n",
    "t.close()"
   ]
  },
  {
   "cell_type": "code",
   "execution_count": 3,
   "metadata": {},
   "outputs": [
    {
     "name": "stderr",
     "output_type": "stream",
     "text": [
      "Image 16 shape: (16429, 21514, 4) heatmap: (3, 2592, 3456):  89%|████████▉ | 16/18 [00:51<00:06,  3.23s/it]"
     ]
    },
    {
     "name": "stdout",
     "output_type": "stream",
     "text": [
      " "
     ]
    },
    {
     "name": "stderr",
     "output_type": "stream",
     "text": [
      "Image 17 shape: (16654, 22310, 4) heatmap: (3, 2688, 3552):  94%|█████████▍| 17/18 [11:24<00:35, 35.05s/it]"
     ]
    },
    {
     "name": "stdout",
     "output_type": "stream",
     "text": [
      " "
     ]
    },
    {
     "name": "stderr",
     "output_type": "stream",
     "text": [
      "Image 17 shape: (16654, 22310, 4) heatmap: (3, 2688, 3552): 100%|██████████| 18/18 [20:35<00:00, 216.39s/it]\n"
     ]
    }
   ],
   "source": [
    "# Save Heatmaps with originals to Image Files\n",
    "import pyvips as Vips\n",
    "\n",
    "# map vips formats to np dtypes\n",
    "format_to_dtype = {\n",
    "    'uchar': np.uint8,\n",
    "    'char': np.int8,\n",
    "    'ushort': np.uint16,\n",
    "    'short': np.int16,\n",
    "    'uint': np.uint32,\n",
    "    'int': np.int32,\n",
    "    'float': np.float32,\n",
    "    'double': np.float64,\n",
    "    'complex': np.complex64,\n",
    "    'dpcomplex': np.complex128,\n",
    "}\n",
    "\n",
    "# vips image to numpy array\n",
    "def vips2numpy(vi):\n",
    "    return np.ndarray(buffer=vi.write_to_memory(),\n",
    "                      dtype=format_to_dtype[vi.format],\n",
    "                      shape=[vi.height, vi.width, vi.bands])\n",
    "\n",
    "ORIG_DIR = 'data/box/'\n",
    "SAVE_PNG_DIR = 'data/outputs/heatmaps_original_png/'\n",
    "if not os.path.exists(SAVE_PNG_DIR):\n",
    "        os.makedirs(SAVE_PNG_DIR)\n",
    "\n",
    "filenames = glob.glob(IMG_DIR + '*')\n",
    "filenames = [filename.split('/')[-1] for filename in filenames]\n",
    "\n",
    "t = tqdm(total=len(filenames))\n",
    "for i, filename in enumerate(filenames):\n",
    "    if i <= 15:\n",
    "        t.update()\n",
    "        continue\n",
    "    # heatmaps[0] = cored, heatmaps[1] = diffuse, heatmaps[2] = caa\n",
    "    heatmaps = np.load(SAVE_DIR+filename+'.npy')\n",
    "    \n",
    "    # Load original slide image\n",
    "    vips_img = Vips.Image.new_from_file(ORIG_DIR+filename+'.svs', level=0)\n",
    "    vips_img = vips_img.resize(0.4)   # Resize by 2x\n",
    "    orig_img = vips2numpy(vips_img)\n",
    "    \n",
    "    t.set_description_str(\"Image \" + str(i) + \" shape: \" + str(orig_img.shape) + \" heatmap: \" + str(heatmaps.shape))\n",
    "    t.refresh()\n",
    "    t.write(\"\", end=' ')\n",
    "    \n",
    "    # For scale: 60, 15, 1200\n",
    "    fig = plt.figure(figsize=(90,22.5), dpi=4800)\n",
    "\n",
    "    ax = fig.add_subplot(411, title=filename)\n",
    "    plt.imshow(orig_img)\n",
    "    ax.set_axis_off()\n",
    "    \n",
    "    ax = fig.add_subplot(412, title=\"Cored\")\n",
    "    im = plt.imshow(heatmaps[0], cmap=plt.cm.get_cmap('viridis', 20), vmin=0, vmax=1)\n",
    "    divider = make_axes_locatable(ax)\n",
    "    ax.set_axis_off()\n",
    "    cax = divider.append_axes(\"right\", size=\"5%\", pad=0.1)\n",
    "    plt.colorbar(im, cax=cax, ticks=[0.0, 0.25, 0.5, 0.75, 1.0])\n",
    "\n",
    "    ax = fig.add_subplot(413, title=\"Diffuse\")\n",
    "    im = plt.imshow(heatmaps[1], cmap=plt.cm.get_cmap('viridis', 20), vmin=0, vmax=1)\n",
    "    divider = make_axes_locatable(ax)\n",
    "    ax.set_axis_off()\n",
    "    cax = divider.append_axes(\"right\", size=\"5%\", pad=0.1)\n",
    "    plt.colorbar(im, cax=cax, ticks=[0.0, 0.25, 0.5, 0.75, 1.0])\n",
    "\n",
    "    ax = fig.add_subplot(414, title=\"CAA\")\n",
    "    im = plt.imshow(heatmaps[2], cmap=plt.cm.get_cmap('viridis', 20), vmin=0, vmax=1)\n",
    "    divider = make_axes_locatable(ax)\n",
    "    ax.set_axis_off()\n",
    "    cax = divider.append_axes(\"right\", size=\"5%\", pad=0.1)\n",
    "    plt.colorbar(im, cax=cax, ticks=[0.0, 0.25, 0.5, 0.75, 1.0])\n",
    "\n",
    "    fig.savefig(SAVE_PNG_DIR+filename+'.pdf', dpi=fig.dpi, bbox_inches='tight')\n",
    "    \n",
    "    plt.close(fig)\n",
    "    t.update()\n",
    "t.close()\n",
    "\n",
    "# Command to convert pdf to png\n",
    "# pdftoppm NA3777-02_AB.pdf NA3777-02_AB -png -r 2600"
   ]
  },
  {
   "cell_type": "code",
   "execution_count": 87,
   "metadata": {},
   "outputs": [
    {
     "name": "stderr",
     "output_type": "stream",
     "text": [
      "100%|██████████| 18/18 [00:03<00:00,  6.16it/s]\n"
     ]
    },
    {
     "data": {
      "text/html": [
       "<div>\n",
       "<style scoped>\n",
       "    .dataframe tbody tr th:only-of-type {\n",
       "        vertical-align: middle;\n",
       "    }\n",
       "\n",
       "    .dataframe tbody tr th {\n",
       "        vertical-align: top;\n",
       "    }\n",
       "\n",
       "    .dataframe thead th {\n",
       "        text-align: right;\n",
       "    }\n",
       "</style>\n",
       "<table border=\"1\" class=\"dataframe\">\n",
       "  <thead>\n",
       "    <tr style=\"text-align: right;\">\n",
       "      <th></th>\n",
       "      <th>imagename</th>\n",
       "      <th>width</th>\n",
       "      <th>height</th>\n",
       "      <th>area</th>\n",
       "      <th>threshold</th>\n",
       "      <th># of cored</th>\n",
       "      <th># of diffuse</th>\n",
       "      <th># of caa</th>\n",
       "      <th>density of cored</th>\n",
       "      <th>density of diffuse</th>\n",
       "      <th>density of caa</th>\n",
       "    </tr>\n",
       "  </thead>\n",
       "  <tbody>\n",
       "    <tr>\n",
       "      <th>0</th>\n",
       "      <td>NA3777-02_AB</td>\n",
       "      <td>53784</td>\n",
       "      <td>47177</td>\n",
       "      <td>2537367768</td>\n",
       "      <td>0.9</td>\n",
       "      <td>6502</td>\n",
       "      <td>2042399</td>\n",
       "      <td>1897</td>\n",
       "      <td>2.562498</td>\n",
       "      <td>804.928251</td>\n",
       "      <td>0.747625</td>\n",
       "    </tr>\n",
       "    <tr>\n",
       "      <th>4</th>\n",
       "      <td>NA4160-02_AB</td>\n",
       "      <td>59760</td>\n",
       "      <td>41787</td>\n",
       "      <td>2497191120</td>\n",
       "      <td>0.9</td>\n",
       "      <td>31019</td>\n",
       "      <td>1478413</td>\n",
       "      <td>3557</td>\n",
       "      <td>12.421556</td>\n",
       "      <td>592.030377</td>\n",
       "      <td>1.424400</td>\n",
       "    </tr>\n",
       "    <tr>\n",
       "      <th>17</th>\n",
       "      <td>NA4695-02_AB</td>\n",
       "      <td>55776</td>\n",
       "      <td>41634</td>\n",
       "      <td>2322177984</td>\n",
       "      <td>0.9</td>\n",
       "      <td>25421</td>\n",
       "      <td>1002352</td>\n",
       "      <td>6624</td>\n",
       "      <td>10.947051</td>\n",
       "      <td>431.643055</td>\n",
       "      <td>2.852495</td>\n",
       "    </tr>\n",
       "    <tr>\n",
       "      <th>9</th>\n",
       "      <td>NA4450-02_AB</td>\n",
       "      <td>57768</td>\n",
       "      <td>47481</td>\n",
       "      <td>2742882408</td>\n",
       "      <td>0.9</td>\n",
       "      <td>31120</td>\n",
       "      <td>1136806</td>\n",
       "      <td>552</td>\n",
       "      <td>11.345729</td>\n",
       "      <td>414.456703</td>\n",
       "      <td>0.201248</td>\n",
       "    </tr>\n",
       "    <tr>\n",
       "      <th>6</th>\n",
       "      <td>NA4256-02_AB</td>\n",
       "      <td>61752</td>\n",
       "      <td>46410</td>\n",
       "      <td>2865910320</td>\n",
       "      <td>0.9</td>\n",
       "      <td>32176</td>\n",
       "      <td>1113128</td>\n",
       "      <td>143560</td>\n",
       "      <td>11.227148</td>\n",
       "      <td>388.402942</td>\n",
       "      <td>50.092286</td>\n",
       "    </tr>\n",
       "    <tr>\n",
       "      <th>7</th>\n",
       "      <td>NA4299-02_AB</td>\n",
       "      <td>57768</td>\n",
       "      <td>43740</td>\n",
       "      <td>2526772320</td>\n",
       "      <td>0.9</td>\n",
       "      <td>70000</td>\n",
       "      <td>940190</td>\n",
       "      <td>974</td>\n",
       "      <td>27.703327</td>\n",
       "      <td>372.091301</td>\n",
       "      <td>0.385472</td>\n",
       "    </tr>\n",
       "    <tr>\n",
       "      <th>3</th>\n",
       "      <td>NA4107-02_AB</td>\n",
       "      <td>67728</td>\n",
       "      <td>36459</td>\n",
       "      <td>2469295152</td>\n",
       "      <td>0.9</td>\n",
       "      <td>31850</td>\n",
       "      <td>902238</td>\n",
       "      <td>462</td>\n",
       "      <td>12.898418</td>\n",
       "      <td>365.382809</td>\n",
       "      <td>0.187098</td>\n",
       "    </tr>\n",
       "    <tr>\n",
       "      <th>8</th>\n",
       "      <td>NA4391-02_AB</td>\n",
       "      <td>49800</td>\n",
       "      <td>47520</td>\n",
       "      <td>2366496000</td>\n",
       "      <td>0.9</td>\n",
       "      <td>24189</td>\n",
       "      <td>792054</td>\n",
       "      <td>6627</td>\n",
       "      <td>10.221441</td>\n",
       "      <td>334.694840</td>\n",
       "      <td>2.800343</td>\n",
       "    </tr>\n",
       "    <tr>\n",
       "      <th>16</th>\n",
       "      <td>NA4691-02_AB</td>\n",
       "      <td>53784</td>\n",
       "      <td>41073</td>\n",
       "      <td>2209070232</td>\n",
       "      <td>0.9</td>\n",
       "      <td>13423</td>\n",
       "      <td>529613</td>\n",
       "      <td>5462</td>\n",
       "      <td>6.076312</td>\n",
       "      <td>239.744754</td>\n",
       "      <td>2.472533</td>\n",
       "    </tr>\n",
       "    <tr>\n",
       "      <th>15</th>\n",
       "      <td>NA4675-02_AB</td>\n",
       "      <td>53784</td>\n",
       "      <td>45548</td>\n",
       "      <td>2449753632</td>\n",
       "      <td>0.9</td>\n",
       "      <td>100957</td>\n",
       "      <td>537865</td>\n",
       "      <td>3730</td>\n",
       "      <td>41.211083</td>\n",
       "      <td>219.558813</td>\n",
       "      <td>1.522602</td>\n",
       "    </tr>\n",
       "    <tr>\n",
       "      <th>14</th>\n",
       "      <td>NA4672-02_AB</td>\n",
       "      <td>49800</td>\n",
       "      <td>36131</td>\n",
       "      <td>1799323800</td>\n",
       "      <td>0.9</td>\n",
       "      <td>71885</td>\n",
       "      <td>322276</td>\n",
       "      <td>1254</td>\n",
       "      <td>39.951119</td>\n",
       "      <td>179.109508</td>\n",
       "      <td>0.696928</td>\n",
       "    </tr>\n",
       "    <tr>\n",
       "      <th>1</th>\n",
       "      <td>NA4077-02_AB</td>\n",
       "      <td>73704</td>\n",
       "      <td>46200</td>\n",
       "      <td>3405124800</td>\n",
       "      <td>0.9</td>\n",
       "      <td>50562</td>\n",
       "      <td>467148</td>\n",
       "      <td>3526</td>\n",
       "      <td>14.848795</td>\n",
       "      <td>137.189685</td>\n",
       "      <td>1.035498</td>\n",
       "    </tr>\n",
       "    <tr>\n",
       "      <th>5</th>\n",
       "      <td>NA4195-02_AB</td>\n",
       "      <td>55776</td>\n",
       "      <td>39849</td>\n",
       "      <td>2222617824</td>\n",
       "      <td>0.9</td>\n",
       "      <td>6617</td>\n",
       "      <td>253929</td>\n",
       "      <td>6742</td>\n",
       "      <td>2.977120</td>\n",
       "      <td>114.247712</td>\n",
       "      <td>3.033360</td>\n",
       "    </tr>\n",
       "    <tr>\n",
       "      <th>2</th>\n",
       "      <td>NA4092-02_AB</td>\n",
       "      <td>65736</td>\n",
       "      <td>45178</td>\n",
       "      <td>2969821008</td>\n",
       "      <td>0.9</td>\n",
       "      <td>43717</td>\n",
       "      <td>243351</td>\n",
       "      <td>8578</td>\n",
       "      <td>14.720416</td>\n",
       "      <td>81.941302</td>\n",
       "      <td>2.888390</td>\n",
       "    </tr>\n",
       "    <tr>\n",
       "      <th>12</th>\n",
       "      <td>NA4553-02_AB</td>\n",
       "      <td>67728</td>\n",
       "      <td>47200</td>\n",
       "      <td>3196761600</td>\n",
       "      <td>0.9</td>\n",
       "      <td>32290</td>\n",
       "      <td>231936</td>\n",
       "      <td>63975</td>\n",
       "      <td>10.100847</td>\n",
       "      <td>72.553424</td>\n",
       "      <td>20.012440</td>\n",
       "    </tr>\n",
       "    <tr>\n",
       "      <th>11</th>\n",
       "      <td>NA4471-02_AB</td>\n",
       "      <td>67728</td>\n",
       "      <td>36791</td>\n",
       "      <td>2491780848</td>\n",
       "      <td>0.9</td>\n",
       "      <td>3242</td>\n",
       "      <td>70384</td>\n",
       "      <td>4354</td>\n",
       "      <td>1.301078</td>\n",
       "      <td>28.246465</td>\n",
       "      <td>1.747345</td>\n",
       "    </tr>\n",
       "    <tr>\n",
       "      <th>13</th>\n",
       "      <td>NA4626-02_AB</td>\n",
       "      <td>47808</td>\n",
       "      <td>41668</td>\n",
       "      <td>1992063744</td>\n",
       "      <td>0.9</td>\n",
       "      <td>38096</td>\n",
       "      <td>31983</td>\n",
       "      <td>1649</td>\n",
       "      <td>19.123886</td>\n",
       "      <td>16.055209</td>\n",
       "      <td>0.827785</td>\n",
       "    </tr>\n",
       "    <tr>\n",
       "      <th>10</th>\n",
       "      <td>NA4463-02_AB</td>\n",
       "      <td>53784</td>\n",
       "      <td>45142</td>\n",
       "      <td>2427917328</td>\n",
       "      <td>0.9</td>\n",
       "      <td>0</td>\n",
       "      <td>0</td>\n",
       "      <td>14</td>\n",
       "      <td>0.000000</td>\n",
       "      <td>0.000000</td>\n",
       "      <td>0.005766</td>\n",
       "    </tr>\n",
       "  </tbody>\n",
       "</table>\n",
       "</div>"
      ],
      "text/plain": [
       "       imagename  width  height        area  threshold  # of cored  \\\n",
       "0   NA3777-02_AB  53784   47177  2537367768        0.9        6502   \n",
       "4   NA4160-02_AB  59760   41787  2497191120        0.9       31019   \n",
       "17  NA4695-02_AB  55776   41634  2322177984        0.9       25421   \n",
       "9   NA4450-02_AB  57768   47481  2742882408        0.9       31120   \n",
       "6   NA4256-02_AB  61752   46410  2865910320        0.9       32176   \n",
       "7   NA4299-02_AB  57768   43740  2526772320        0.9       70000   \n",
       "3   NA4107-02_AB  67728   36459  2469295152        0.9       31850   \n",
       "8   NA4391-02_AB  49800   47520  2366496000        0.9       24189   \n",
       "16  NA4691-02_AB  53784   41073  2209070232        0.9       13423   \n",
       "15  NA4675-02_AB  53784   45548  2449753632        0.9      100957   \n",
       "14  NA4672-02_AB  49800   36131  1799323800        0.9       71885   \n",
       "1   NA4077-02_AB  73704   46200  3405124800        0.9       50562   \n",
       "5   NA4195-02_AB  55776   39849  2222617824        0.9        6617   \n",
       "2   NA4092-02_AB  65736   45178  2969821008        0.9       43717   \n",
       "12  NA4553-02_AB  67728   47200  3196761600        0.9       32290   \n",
       "11  NA4471-02_AB  67728   36791  2491780848        0.9        3242   \n",
       "13  NA4626-02_AB  47808   41668  1992063744        0.9       38096   \n",
       "10  NA4463-02_AB  53784   45142  2427917328        0.9           0   \n",
       "\n",
       "    # of diffuse  # of caa  density of cored  density of diffuse  \\\n",
       "0        2042399      1897          2.562498          804.928251   \n",
       "4        1478413      3557         12.421556          592.030377   \n",
       "17       1002352      6624         10.947051          431.643055   \n",
       "9        1136806       552         11.345729          414.456703   \n",
       "6        1113128    143560         11.227148          388.402942   \n",
       "7         940190       974         27.703327          372.091301   \n",
       "3         902238       462         12.898418          365.382809   \n",
       "8         792054      6627         10.221441          334.694840   \n",
       "16        529613      5462          6.076312          239.744754   \n",
       "15        537865      3730         41.211083          219.558813   \n",
       "14        322276      1254         39.951119          179.109508   \n",
       "1         467148      3526         14.848795          137.189685   \n",
       "5         253929      6742          2.977120          114.247712   \n",
       "2         243351      8578         14.720416           81.941302   \n",
       "12        231936     63975         10.100847           72.553424   \n",
       "11         70384      4354          1.301078           28.246465   \n",
       "13         31983      1649         19.123886           16.055209   \n",
       "10             0        14          0.000000            0.000000   \n",
       "\n",
       "    density of caa  \n",
       "0         0.747625  \n",
       "4         1.424400  \n",
       "17        2.852495  \n",
       "9         0.201248  \n",
       "6        50.092286  \n",
       "7         0.385472  \n",
       "3         0.187098  \n",
       "8         2.800343  \n",
       "16        2.472533  \n",
       "15        1.522602  \n",
       "14        0.696928  \n",
       "1         1.035498  \n",
       "5         3.033360  \n",
       "2         2.888390  \n",
       "12       20.012440  \n",
       "11        1.747345  \n",
       "13        0.827785  \n",
       "10        0.005766  "
      ]
     },
     "execution_count": 87,
     "metadata": {},
     "output_type": "execute_result"
    }
   ],
   "source": [
    "# Obtain CNN results and calculate a rough density\n",
    "import xml.etree.ElementTree as ET\n",
    "import csv\n",
    "import pandas as pd\n",
    "\n",
    "SAVE_CSV_DIR = 'data/outputs/heatmaps_csv/'\n",
    "if not os.path.exists(SAVE_CSV_DIR):\n",
    "    os.makedirs(SAVE_CSV_DIR)\n",
    "SAVE_CSV_FILE = SAVE_CSV_DIR + 'Plaque Density.csv'\n",
    "\n",
    "# Threshold for CNN prediction probability\n",
    "threshold = 0.9\n",
    "\n",
    "filenames = glob.glob(IMG_DIR + '*')\n",
    "filenames = [filename.split('/')[-1] for filename in filenames]\n",
    "\n",
    "# Initialize csv file\n",
    "data_fields = [['imagename',\n",
    "                'width',\n",
    "                'height',\n",
    "                'area',\n",
    "                'threshold',\n",
    "                '# of cored',\n",
    "                '# of diffuse',\n",
    "                '# of caa'\n",
    "                'density of cored',\n",
    "                'density of diffuse',\n",
    "                'density of caa']]\n",
    "\n",
    "with open(SAVE_CSV_FILE, 'w') as csvfile:\n",
    "    writer = csv.writer(csvfile)\n",
    "    writer.writerows(data_fields)\n",
    "\n",
    "t = tqdm(total=len(filenames))\n",
    "for i, filename in enumerate(filenames):\n",
    "    # Get WSI dimension\n",
    "    XML_DIR = IMG_DIR+'{}/{}/vips-properties.xml'.format(filename, filename)\n",
    "    tree = ET.parse(XML_DIR)\n",
    "    root = tree.getroot()\n",
    "    width = int(root[0][0][1].text)\n",
    "    height = int(root[0][1][1].text)\n",
    "    area = width * height\n",
    "    \n",
    "    # Get CNN results\n",
    "    heatmaps = np.load(SAVE_DIR+filename+'.npy')\n",
    "    cored = heatmaps[0]\n",
    "    diffuse = heatmaps[1]\n",
    "    caa = heatmaps[2]\n",
    "    \n",
    "    cored_count = cored[np.where(cored > threshold)].size\n",
    "    diffuse_count = diffuse[np.where(diffuse > threshold)].size\n",
    "    caa_count = caa[np.where(caa > threshold)].size\n",
    "    \n",
    "    # Calculate density\n",
    "    d_cored = cored_count / area * 1e6\n",
    "    d_diffuse = diffuse_count / area * 1e6\n",
    "    d_caa = caa_count / area * 1e6\n",
    "\n",
    "    data = [[filename, width, height, area, threshold, cored_count, diffuse_count, caa_count, d_cored, d_diffuse, d_caa]]\n",
    "    \n",
    "    with open(SAVE_CSV_FILE, 'a') as csvfile:\n",
    "        writer = csv.writer(csvfile)\n",
    "        writer.writerows(data)\n",
    "    t.update()\n",
    "t.close()\n",
    "\n",
    "# Print out csv\n",
    "csv_reader = pd.read_csv(SAVE_CSV_FILE)\n",
    "csv_reader.sort_values('density of diffuse', ascending = False)"
   ]
  },
  {
   "cell_type": "code",
   "execution_count": null,
   "metadata": {},
   "outputs": [],
   "source": []
  }
 ],
 "metadata": {
  "kernelspec": {
   "display_name": "Python 3",
   "language": "python",
   "name": "python3"
  },
  "language_info": {
   "codemirror_mode": {
    "name": "ipython",
    "version": 3
   },
   "file_extension": ".py",
   "mimetype": "text/x-python",
   "name": "python",
   "nbconvert_exporter": "python",
   "pygments_lexer": "ipython3",
   "version": "3.6.8"
  }
 },
 "nbformat": 4,
 "nbformat_minor": 2
}
