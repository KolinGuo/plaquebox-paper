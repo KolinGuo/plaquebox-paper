{
 "cells": [
  {
   "cell_type": "code",
   "execution_count": 1,
   "metadata": {},
   "outputs": [],
   "source": [
    "#Step1: Read png\n",
    "import pyvips\n",
    "FILE = 'data/outputs/norm_png/NA4450-02_AB.png'\n",
    "image = pyvips.Image.new_from_file(FILE)"
   ]
  },
  {
   "cell_type": "code",
   "execution_count": 2,
   "metadata": {},
   "outputs": [
    {
     "name": "stdout",
     "output_type": "stream",
     "text": [
      "6400\n",
      "7900\n",
      "5056\n"
     ]
    }
   ],
   "source": [
    "#x:3600-10000\n",
    "print(10000-3600)\n",
    "#y:9100-17000\n",
    "print(17000-9100)\n",
    "print(64*79)\n"
   ]
  },
  {
   "cell_type": "code",
   "execution_count": 3,
   "metadata": {},
   "outputs": [
    {
     "name": "stdout",
     "output_type": "stream",
     "text": [
      "<pyvips.Image 58368x47616 uchar, 3 bands, srgb>\n"
     ]
    }
   ],
   "source": [
    "print(image)"
   ]
  },
  {
   "cell_type": "code",
   "execution_count": 4,
   "metadata": {},
   "outputs": [],
   "source": [
    "import os\n",
    "SAVE_DENSE_DIR = 'data/ds/dense/NA4450-02_AB'\n",
    "if not os.path.exists(SAVE_DENSE_DIR):\n",
    "    os.makedirs(SAVE_DENSE_DIR)\n",
    "\n",
    "FILENAME = 'd'\n",
    "i = 0\n",
    "\n",
    "#Dense Area(Left Top)\n",
    "\n",
    "x_left = 3600\n",
    "y_top = 9100\n",
    "\n",
    "for x in range(64):\n",
    "    for y in range(79):\n",
    "        x1 = x_left + x*100\n",
    "        y1 = y_top + y*100\n",
    "        img = image.extract_area(x1,y1,256,256)\n",
    "        name = SAVE_DENSE_DIR + '/'+ FILENAME + str(i) + '.png'\n",
    "        i = i + 1\n",
    "        img.write_to_file(name)"
   ]
  },
  {
   "cell_type": "code",
   "execution_count": null,
   "metadata": {},
   "outputs": [],
   "source": []
  },
  {
   "cell_type": "code",
   "execution_count": null,
   "metadata": {},
   "outputs": [],
   "source": [
    "#Sparse(Right)\n",
    "#x:40000-47000\n",
    "#y:18300-39400"
   ]
  },
  {
   "cell_type": "code",
   "execution_count": 9,
   "metadata": {},
   "outputs": [
    {
     "name": "stdout",
     "output_type": "stream",
     "text": [
      "7000\n",
      "21100\n",
      "7000\n",
      "92.0\n"
     ]
    }
   ],
   "source": [
    "print(7000)\n",
    "print(39400-18300)\n",
    "print(70*100)\n",
    "print(18400/200)"
   ]
  },
  {
   "cell_type": "code",
   "execution_count": 10,
   "metadata": {},
   "outputs": [],
   "source": [
    "import os\n",
    "SAVE_DENSE_DIR = 'data/ds/sparse/NA4450-02_AB'\n",
    "if not os.path.exists(SAVE_DENSE_DIR):\n",
    "    os.makedirs(SAVE_DENSE_DIR)\n",
    "\n",
    "FILENAME = 's'\n",
    "i = 0\n",
    "\n",
    "\n",
    "x_left = 40000\n",
    "y_top = 18300\n",
    "\n",
    "for x in range(70):\n",
    "    for y in range(91):\n",
    "        x1 = x_left + x*100\n",
    "        y1 = y_top + y*200\n",
    "        img = image.extract_area(x1,y1,256,256)\n",
    "        name = SAVE_DENSE_DIR + '/'+ FILENAME + str(i) + '.png'\n",
    "        i = i + 1\n",
    "        img.write_to_file(name)"
   ]
  },
  {
   "cell_type": "code",
   "execution_count": null,
   "metadata": {},
   "outputs": [],
   "source": []
  }
 ],
 "metadata": {
  "kernelspec": {
   "display_name": "Python 3",
   "language": "python",
   "name": "python3"
  },
  "language_info": {
   "codemirror_mode": {
    "name": "ipython",
    "version": 3
   },
   "file_extension": ".py",
   "mimetype": "text/x-python",
   "name": "python",
   "nbconvert_exporter": "python",
   "pygments_lexer": "ipython3",
   "version": "3.6.8"
  }
 },
 "nbformat": 4,
 "nbformat_minor": 2
}
