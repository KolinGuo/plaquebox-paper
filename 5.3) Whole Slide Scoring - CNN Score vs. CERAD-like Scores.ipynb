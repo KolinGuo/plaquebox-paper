{
 "cells": [
  {
   "cell_type": "markdown",
   "metadata": {},
   "source": [
    "### 5.3 Whole Slide Scoring - CNN Scores vs. CERAD-like Scores\n",
    "\n",
    "A two-sided, independent, two-sample t-test was used to test the null hypothesis that two independent samples have identical expected values. CNN-based quantification scores of WSIs from different CERAD categories were used for the test. Data were presented as box plots overlaid with dot plot. Box plot plotted interquartile range (top and bottom of the box), median (the band inside the box), and outliers (points beyond the whiskers). "
   ]
  },
  {
   "cell_type": "code",
   "execution_count": 1,
   "metadata": {},
   "outputs": [],
   "source": [
    "import numpy as np\n",
    "import pandas as pd\n",
    "import matplotlib.pyplot as plt\n",
    "import matplotlib.gridspec as gridspec\n",
    "from matplotlib.colors import LinearSegmentedColormap\n",
    "from mpl_toolkits.axes_grid1 import make_axes_locatable\n",
    "from scipy import stats\n",
    "\n",
    "from tqdm import tqdm"
   ]
  },
  {
   "cell_type": "code",
   "execution_count": 2,
   "metadata": {},
   "outputs": [],
   "source": [
    "CSV_PATH = 'data/outputs/CNNscore/CNN_vs_CERAD.csv'\n",
    "SAVE_DIR = 'data/outputs/CNNscore/'"
   ]
  },
  {
   "cell_type": "code",
   "execution_count": 3,
   "metadata": {},
   "outputs": [],
   "source": [
    "CERAD_score_names = ['Cored_MTG', 'Diffuse_MTG', 'CAA_MTG']\n",
    "CNN_score_names = ['CNN_cored_count', 'CNN_diffuse_count', 'CNN_caa_count']    \n",
    "classes = ['cored plaque', 'diffuse plaque', 'CAA']"
   ]
  },
  {
   "cell_type": "code",
   "execution_count": 4,
   "metadata": {},
   "outputs": [],
   "source": [
    "def get_significance_label(p):\n",
    "    if p > 0.05:\n",
    "        return 'n.s.'\n",
    "    if p > 0.01:\n",
    "        return '*'\n",
    "    if p > 0.001: \n",
    "        return '**'\n",
    "    if p > 0.0001:\n",
    "        return '***'\n",
    "    return '****'"
   ]
  },
  {
   "cell_type": "code",
   "execution_count": 5,
   "metadata": {},
   "outputs": [],
   "source": [
    "def p_show(p):\n",
    "    for i in range(2,15):\n",
    "        if p > 1/10**i:\n",
    "            return round(p, i+1)"
   ]
  },
  {
   "cell_type": "code",
   "execution_count": 6,
   "metadata": {},
   "outputs": [],
   "source": [
    "cdict = {'red':   ((0.0, 0.0, 1.0),\n",
    "                   (1.301/4, 0.7, 0.7),\n",
    "                   (1.0, 0/255, 0.0)),\n",
    "\n",
    "         'green': ((0.0, 0.0, 0.0),\n",
    "                   (1.301/4, 0.7, 0.7),\n",
    "                   (1.0, 100/255, 0.0)),\n",
    "\n",
    "         'blue':  ((0.0, 0.0, 0.0),\n",
    "                   (1.301/4,0.7,0.7),\n",
    "                   (1.0, 1.0, 0.0))\n",
    "        }\n",
    "\n",
    "colorbar = LinearSegmentedColormap('pvalue', cdict)\n",
    "\n",
    "flierprops = dict(marker='+', markerfacecolor='red', markersize=12, markeredgecolor='red',\n",
    "                  linestyle='none')"
   ]
  },
  {
   "cell_type": "code",
   "execution_count": 7,
   "metadata": {
    "scrolled": false
   },
   "outputs": [
    {
     "ename": "FileNotFoundError",
     "evalue": "[Errno 2] File b'data/outputs/CNNscore/CNN_vs_CERAD.csv' does not exist: b'data/outputs/CNNscore/CNN_vs_CERAD.csv'",
     "output_type": "error",
     "traceback": [
      "\u001b[0;31m---------------------------------------------------------------------------\u001b[0m",
      "\u001b[0;31mFileNotFoundError\u001b[0m                         Traceback (most recent call last)",
      "\u001b[0;32m<ipython-input-7-53ca72534d5d>\u001b[0m in \u001b[0;36m<module>\u001b[0;34m\u001b[0m\n\u001b[0;32m----> 1\u001b[0;31m \u001b[0mcnn_file\u001b[0m \u001b[0;34m=\u001b[0m \u001b[0mpd\u001b[0m\u001b[0;34m.\u001b[0m\u001b[0mread_csv\u001b[0m\u001b[0;34m(\u001b[0m\u001b[0mCSV_PATH\u001b[0m\u001b[0;34m)\u001b[0m\u001b[0;34m\u001b[0m\u001b[0;34m\u001b[0m\u001b[0m\n\u001b[0m\u001b[1;32m      2\u001b[0m \u001b[0;34m\u001b[0m\u001b[0m\n\u001b[1;32m      3\u001b[0m \u001b[0;32mfor\u001b[0m \u001b[0mname\u001b[0m \u001b[0;32min\u001b[0m \u001b[0;34m[\u001b[0m\u001b[0;36m0\u001b[0m\u001b[0;34m,\u001b[0m\u001b[0;36m1\u001b[0m\u001b[0;34m,\u001b[0m\u001b[0;36m2\u001b[0m\u001b[0;34m]\u001b[0m\u001b[0;34m:\u001b[0m\u001b[0;34m\u001b[0m\u001b[0;34m\u001b[0m\u001b[0m\n\u001b[1;32m      4\u001b[0m \u001b[0;34m\u001b[0m\u001b[0m\n\u001b[1;32m      5\u001b[0m     \u001b[0mCERAD_score_name\u001b[0m \u001b[0;34m=\u001b[0m \u001b[0mCERAD_score_names\u001b[0m\u001b[0;34m[\u001b[0m\u001b[0mname\u001b[0m\u001b[0;34m]\u001b[0m\u001b[0;34m\u001b[0m\u001b[0;34m\u001b[0m\u001b[0m\n",
      "\u001b[0;32m/usr/local/lib/python3.6/dist-packages/pandas/io/parsers.py\u001b[0m in \u001b[0;36mparser_f\u001b[0;34m(filepath_or_buffer, sep, delimiter, header, names, index_col, usecols, squeeze, prefix, mangle_dupe_cols, dtype, engine, converters, true_values, false_values, skipinitialspace, skiprows, skipfooter, nrows, na_values, keep_default_na, na_filter, verbose, skip_blank_lines, parse_dates, infer_datetime_format, keep_date_col, date_parser, dayfirst, iterator, chunksize, compression, thousands, decimal, lineterminator, quotechar, quoting, doublequote, escapechar, comment, encoding, dialect, tupleize_cols, error_bad_lines, warn_bad_lines, delim_whitespace, low_memory, memory_map, float_precision)\u001b[0m\n\u001b[1;32m    700\u001b[0m                     skip_blank_lines=skip_blank_lines)\n\u001b[1;32m    701\u001b[0m \u001b[0;34m\u001b[0m\u001b[0m\n\u001b[0;32m--> 702\u001b[0;31m         \u001b[0;32mreturn\u001b[0m \u001b[0m_read\u001b[0m\u001b[0;34m(\u001b[0m\u001b[0mfilepath_or_buffer\u001b[0m\u001b[0;34m,\u001b[0m \u001b[0mkwds\u001b[0m\u001b[0;34m)\u001b[0m\u001b[0;34m\u001b[0m\u001b[0;34m\u001b[0m\u001b[0m\n\u001b[0m\u001b[1;32m    703\u001b[0m \u001b[0;34m\u001b[0m\u001b[0m\n\u001b[1;32m    704\u001b[0m     \u001b[0mparser_f\u001b[0m\u001b[0;34m.\u001b[0m\u001b[0m__name__\u001b[0m \u001b[0;34m=\u001b[0m \u001b[0mname\u001b[0m\u001b[0;34m\u001b[0m\u001b[0;34m\u001b[0m\u001b[0m\n",
      "\u001b[0;32m/usr/local/lib/python3.6/dist-packages/pandas/io/parsers.py\u001b[0m in \u001b[0;36m_read\u001b[0;34m(filepath_or_buffer, kwds)\u001b[0m\n\u001b[1;32m    427\u001b[0m \u001b[0;34m\u001b[0m\u001b[0m\n\u001b[1;32m    428\u001b[0m     \u001b[0;31m# Create the parser.\u001b[0m\u001b[0;34m\u001b[0m\u001b[0;34m\u001b[0m\u001b[0;34m\u001b[0m\u001b[0m\n\u001b[0;32m--> 429\u001b[0;31m     \u001b[0mparser\u001b[0m \u001b[0;34m=\u001b[0m \u001b[0mTextFileReader\u001b[0m\u001b[0;34m(\u001b[0m\u001b[0mfilepath_or_buffer\u001b[0m\u001b[0;34m,\u001b[0m \u001b[0;34m**\u001b[0m\u001b[0mkwds\u001b[0m\u001b[0;34m)\u001b[0m\u001b[0;34m\u001b[0m\u001b[0;34m\u001b[0m\u001b[0m\n\u001b[0m\u001b[1;32m    430\u001b[0m \u001b[0;34m\u001b[0m\u001b[0m\n\u001b[1;32m    431\u001b[0m     \u001b[0;32mif\u001b[0m \u001b[0mchunksize\u001b[0m \u001b[0;32mor\u001b[0m \u001b[0miterator\u001b[0m\u001b[0;34m:\u001b[0m\u001b[0;34m\u001b[0m\u001b[0;34m\u001b[0m\u001b[0m\n",
      "\u001b[0;32m/usr/local/lib/python3.6/dist-packages/pandas/io/parsers.py\u001b[0m in \u001b[0;36m__init__\u001b[0;34m(self, f, engine, **kwds)\u001b[0m\n\u001b[1;32m    893\u001b[0m             \u001b[0mself\u001b[0m\u001b[0;34m.\u001b[0m\u001b[0moptions\u001b[0m\u001b[0;34m[\u001b[0m\u001b[0;34m'has_index_names'\u001b[0m\u001b[0;34m]\u001b[0m \u001b[0;34m=\u001b[0m \u001b[0mkwds\u001b[0m\u001b[0;34m[\u001b[0m\u001b[0;34m'has_index_names'\u001b[0m\u001b[0;34m]\u001b[0m\u001b[0;34m\u001b[0m\u001b[0;34m\u001b[0m\u001b[0m\n\u001b[1;32m    894\u001b[0m \u001b[0;34m\u001b[0m\u001b[0m\n\u001b[0;32m--> 895\u001b[0;31m         \u001b[0mself\u001b[0m\u001b[0;34m.\u001b[0m\u001b[0m_make_engine\u001b[0m\u001b[0;34m(\u001b[0m\u001b[0mself\u001b[0m\u001b[0;34m.\u001b[0m\u001b[0mengine\u001b[0m\u001b[0;34m)\u001b[0m\u001b[0;34m\u001b[0m\u001b[0;34m\u001b[0m\u001b[0m\n\u001b[0m\u001b[1;32m    896\u001b[0m \u001b[0;34m\u001b[0m\u001b[0m\n\u001b[1;32m    897\u001b[0m     \u001b[0;32mdef\u001b[0m \u001b[0mclose\u001b[0m\u001b[0;34m(\u001b[0m\u001b[0mself\u001b[0m\u001b[0;34m)\u001b[0m\u001b[0;34m:\u001b[0m\u001b[0;34m\u001b[0m\u001b[0;34m\u001b[0m\u001b[0m\n",
      "\u001b[0;32m/usr/local/lib/python3.6/dist-packages/pandas/io/parsers.py\u001b[0m in \u001b[0;36m_make_engine\u001b[0;34m(self, engine)\u001b[0m\n\u001b[1;32m   1120\u001b[0m     \u001b[0;32mdef\u001b[0m \u001b[0m_make_engine\u001b[0m\u001b[0;34m(\u001b[0m\u001b[0mself\u001b[0m\u001b[0;34m,\u001b[0m \u001b[0mengine\u001b[0m\u001b[0;34m=\u001b[0m\u001b[0;34m'c'\u001b[0m\u001b[0;34m)\u001b[0m\u001b[0;34m:\u001b[0m\u001b[0;34m\u001b[0m\u001b[0;34m\u001b[0m\u001b[0m\n\u001b[1;32m   1121\u001b[0m         \u001b[0;32mif\u001b[0m \u001b[0mengine\u001b[0m \u001b[0;34m==\u001b[0m \u001b[0;34m'c'\u001b[0m\u001b[0;34m:\u001b[0m\u001b[0;34m\u001b[0m\u001b[0;34m\u001b[0m\u001b[0m\n\u001b[0;32m-> 1122\u001b[0;31m             \u001b[0mself\u001b[0m\u001b[0;34m.\u001b[0m\u001b[0m_engine\u001b[0m \u001b[0;34m=\u001b[0m \u001b[0mCParserWrapper\u001b[0m\u001b[0;34m(\u001b[0m\u001b[0mself\u001b[0m\u001b[0;34m.\u001b[0m\u001b[0mf\u001b[0m\u001b[0;34m,\u001b[0m \u001b[0;34m**\u001b[0m\u001b[0mself\u001b[0m\u001b[0;34m.\u001b[0m\u001b[0moptions\u001b[0m\u001b[0;34m)\u001b[0m\u001b[0;34m\u001b[0m\u001b[0;34m\u001b[0m\u001b[0m\n\u001b[0m\u001b[1;32m   1123\u001b[0m         \u001b[0;32melse\u001b[0m\u001b[0;34m:\u001b[0m\u001b[0;34m\u001b[0m\u001b[0;34m\u001b[0m\u001b[0m\n\u001b[1;32m   1124\u001b[0m             \u001b[0;32mif\u001b[0m \u001b[0mengine\u001b[0m \u001b[0;34m==\u001b[0m \u001b[0;34m'python'\u001b[0m\u001b[0;34m:\u001b[0m\u001b[0;34m\u001b[0m\u001b[0;34m\u001b[0m\u001b[0m\n",
      "\u001b[0;32m/usr/local/lib/python3.6/dist-packages/pandas/io/parsers.py\u001b[0m in \u001b[0;36m__init__\u001b[0;34m(self, src, **kwds)\u001b[0m\n\u001b[1;32m   1851\u001b[0m         \u001b[0mkwds\u001b[0m\u001b[0;34m[\u001b[0m\u001b[0;34m'usecols'\u001b[0m\u001b[0;34m]\u001b[0m \u001b[0;34m=\u001b[0m \u001b[0mself\u001b[0m\u001b[0;34m.\u001b[0m\u001b[0musecols\u001b[0m\u001b[0;34m\u001b[0m\u001b[0;34m\u001b[0m\u001b[0m\n\u001b[1;32m   1852\u001b[0m \u001b[0;34m\u001b[0m\u001b[0m\n\u001b[0;32m-> 1853\u001b[0;31m         \u001b[0mself\u001b[0m\u001b[0;34m.\u001b[0m\u001b[0m_reader\u001b[0m \u001b[0;34m=\u001b[0m \u001b[0mparsers\u001b[0m\u001b[0;34m.\u001b[0m\u001b[0mTextReader\u001b[0m\u001b[0;34m(\u001b[0m\u001b[0msrc\u001b[0m\u001b[0;34m,\u001b[0m \u001b[0;34m**\u001b[0m\u001b[0mkwds\u001b[0m\u001b[0;34m)\u001b[0m\u001b[0;34m\u001b[0m\u001b[0;34m\u001b[0m\u001b[0m\n\u001b[0m\u001b[1;32m   1854\u001b[0m         \u001b[0mself\u001b[0m\u001b[0;34m.\u001b[0m\u001b[0munnamed_cols\u001b[0m \u001b[0;34m=\u001b[0m \u001b[0mself\u001b[0m\u001b[0;34m.\u001b[0m\u001b[0m_reader\u001b[0m\u001b[0;34m.\u001b[0m\u001b[0munnamed_cols\u001b[0m\u001b[0;34m\u001b[0m\u001b[0;34m\u001b[0m\u001b[0m\n\u001b[1;32m   1855\u001b[0m \u001b[0;34m\u001b[0m\u001b[0m\n",
      "\u001b[0;32mpandas/_libs/parsers.pyx\u001b[0m in \u001b[0;36mpandas._libs.parsers.TextReader.__cinit__\u001b[0;34m()\u001b[0m\n",
      "\u001b[0;32mpandas/_libs/parsers.pyx\u001b[0m in \u001b[0;36mpandas._libs.parsers.TextReader._setup_parser_source\u001b[0;34m()\u001b[0m\n",
      "\u001b[0;31mFileNotFoundError\u001b[0m: [Errno 2] File b'data/outputs/CNNscore/CNN_vs_CERAD.csv' does not exist: b'data/outputs/CNNscore/CNN_vs_CERAD.csv'"
     ]
    }
   ],
   "source": [
    "cnn_file = pd.read_csv(CSV_PATH)\n",
    "\n",
    "for name in [0,1,2]:\n",
    "\n",
    "    CERAD_score_name = CERAD_score_names[name]\n",
    "    CNN_score_name = CNN_score_names[name]\n",
    "    data = []\n",
    "    scores = [0,1,2,3]\n",
    "    for score in scores:\n",
    "\n",
    "        count = np.asarray(cnn_file[cnn_file[CERAD_score_name]==score][CNN_score_name]) * 1000\n",
    "        count = count / np.asarray(cnn_file[cnn_file[CERAD_score_name]==score]['Area'])\n",
    "        count.shape = (-1,1)\n",
    "        data.append(count[~np.isnan(count)])\n",
    "\n",
    "    # box plot and dot plot\n",
    "    fig = plt.figure(figsize=(12,10))\n",
    "    ax = fig.add_subplot(111)\n",
    "   \n",
    "    bp = ax.boxplot(data, flierprops=flierprops, showmeans=False)\n",
    "    for i in range(4):\n",
    "        plt.setp(bp['medians'][i], color=(0,0,1), lw=4)\n",
    "        ax.scatter([i+1 for _ in data[i]], data[i], c='k')\n",
    "        \n",
    "    # t test - calculate p-values\n",
    "    p_values = np.ones([4,4])\n",
    "    max_value = max([d.max() for d in data])\n",
    "    for x in [1,2,3]:\n",
    "        _, p = stats.ttest_ind(data[x-1], data[x], nan_policy='omit')\n",
    "        p_values[x, x-1] = p\n",
    "        # plot significance label\n",
    "        x1, x2 = x+0.03, x+0.97   \n",
    "        y, h, col = max_value*1.1, max_value*0.03, 'k'\n",
    "        text = get_significance_label(p)\n",
    "        ax.plot([x1, x1, x2, x2], [y, y+h, y+h, y], lw=1.5, c=col)\n",
    "        ax.text((x1+x2)*.5, y+h, text, ha='center', va='bottom', color=col, fontsize=25)\n",
    "    for x in [1,2]:\n",
    "        _, p = stats.ttest_ind(data[x-1], data[x+1], nan_policy='omit')\n",
    "        p_values[x+1, x-1] = p\n",
    "    _, p = stats.ttest_ind(data[0], data[3], nan_policy='omit')\n",
    "    p_values[3, 0] = p\n",
    "\n",
    "    ax.set_ylim([-max([d.max() for d in data])/10, max([d.max() for d in data])*1.3])\n",
    "    _ = ax.set_xticklabels(['none', 'sparse', 'moderate', 'frequent'])\n",
    "    ax.set_xlabel('\\nCERAD-like categories ({})'.format(classes[name]), fontsize=30)\n",
    "    ax.set_ylabel('CNN-based scores ({})'.format(classes[name]), fontsize=30)\n",
    "    ax.xaxis.set_tick_params(labelsize=30, size=0, width=2)\n",
    "    ax.yaxis.set_tick_params(labelsize=30, size=5, width=2)\n",
    "    fig.savefig(SAVE_DIR+'box_plot_{}_entireset.png'.format(CNN_score_name), \n",
    "                bbox_inches='tight', dpi=300)\n",
    "    plt.pause(0.001)\n",
    "    \n",
    "    # plot p-values matric\n",
    "    fig = plt.figure(figsize=(10,10))\n",
    "    ax = fig.add_subplot(111)\n",
    "    \n",
    "    nlogp = -np.log10(p_values[1:, :3]) # only have 3x3 p-values\n",
    "    mask = np.tri(nlogp.shape[0], k=0)\n",
    "    nlogp = np.ma.array(nlogp, mask=1-mask)\n",
    "    im = ax.imshow(nlogp, cmap=colorbar, vmin=0, vmax=4)\n",
    "    \n",
    "    divider = make_axes_locatable(ax)\n",
    "    cax = divider.append_axes(\"right\", size=\"5%\", pad=0.2)\n",
    "    cbar = plt.colorbar(im, cax=cax, ticks=[0,1.30103,2,4])\n",
    "    cbar.ax.tick_params(labelsize=30, size=8, width=4) \n",
    "    cbar.ax.set_yticklabels(['1','0.05','0.01','< 1e-4'])\n",
    "    cbar.ax.text(4.2, 0.65, 'p vlaues', rotation=90, fontsize=30)\n",
    "    \n",
    "    for i in range(3):\n",
    "        for j in range(0, i+1):\n",
    "            text = ax.text(j, i, p_show(p_values[i+1,j]),\n",
    "                           ha=\"center\", va=\"center\", color=(1,1,1), fontsize=30)\n",
    "            \n",
    "    ax.set_title('t-test p-values', fontsize=30, y=1.01)\n",
    "    _ = plt.xticks([0,1,2], ['none', 'sparse', 'moderate'], fontsize=30)\n",
    "    _ = plt.yticks([0,1,2], ['sparse', 'moderate', 'frequent'], fontsize=30)\n",
    "    ax.xaxis.set_tick_params(labelsize=30, size=0, width=2)\n",
    "    ax.yaxis.set_tick_params(labelsize=30, size=0, width=2)\n",
    "    ax.spines['top'].set_visible(False)\n",
    "    ax.spines['right'].set_visible(False)\n",
    "            \n",
    "    fig.savefig(SAVE_DIR+'p_vaplus_{}_entireset.png'.format(CNN_score_name), \n",
    "                bbox_inches='tight', dpi=300)\n",
    "\n",
    "    # print statistics\n",
    "    print('m, f: ', stats.ttest_ind(data[2], data[3], nan_policy='omit'))\n",
    "    print('s, m: ', stats.ttest_ind(data[1], data[2], nan_policy='omit'))\n",
    "    print('n, s: ', stats.ttest_ind(data[0], data[1], nan_policy='omit'))\n",
    "    print('s, f: ', stats.ttest_ind(data[1], data[3], nan_policy='omit'))\n",
    "    print('n, m: ', stats.ttest_ind(data[0], data[2], nan_policy='omit'))\n",
    "    print('n, f: ', stats.ttest_ind(data[0], data[3], nan_policy='omit'))"
   ]
  }
 ],
 "metadata": {
  "kernelspec": {
   "display_name": "Python 3",
   "language": "python",
   "name": "python3"
  },
  "language_info": {
   "codemirror_mode": {
    "name": "ipython",
    "version": 3
   },
   "file_extension": ".py",
   "mimetype": "text/x-python",
   "name": "python",
   "nbconvert_exporter": "python",
   "pygments_lexer": "ipython3",
   "version": "3.6.8"
  }
 },
 "nbformat": 4,
 "nbformat_minor": 2
}
