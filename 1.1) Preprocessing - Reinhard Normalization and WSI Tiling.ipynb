{
 "cells": [
  {
   "cell_type": "markdown",
   "metadata": {},
   "source": [
    "### 1.1 Preprocessing - Reinhard Normalization and WSI Tiling\n",
    "\n",
    "As a first preprocessing step, all slides were color normalized with respect to a reference image selected by an expert neuropathologist. Color normalization was performed using the method described by [Reinhard et. al](https://ieeexplore.ieee.org/document/946629).\n",
    "\n",
    "The resulting color normalized whole slide images were tiled using PyVips to generate 1536 x 1536 images patches."
   ]
  },
  {
   "cell_type": "code",
   "execution_count": 1,
   "metadata": {},
   "outputs": [],
   "source": [
    "import os\n",
    "import glob\n",
    "import numpy as np\n",
    "import cv2\n",
    "import matplotlib.pyplot as plt\n",
    "import pyvips as Vips\n",
    "from tqdm import tqdm\n",
    "\n",
    "from utils import vips_utils, normalize"
   ]
  },
  {
   "cell_type": "code",
   "execution_count": 2,
   "metadata": {},
   "outputs": [],
   "source": [
    "TRAIN_WSI_DIR = 'data/Dataset 1a Development_train/'              # WSIs in the training set\n",
    "VAL_WSI_DIR = 'data/Dataset 1b Development_validation/'           # WSIs in the validation set\n",
    "\n",
    "SAVE_DIR = 'data/norm_tiles/'"
   ]
  },
  {
   "cell_type": "code",
   "execution_count": 3,
   "metadata": {},
   "outputs": [],
   "source": [
    "if not os.path.exists(SAVE_DIR):\n",
    "        os.makedirs(SAVE_DIR)"
   ]
  },
  {
   "cell_type": "code",
   "execution_count": 4,
   "metadata": {},
   "outputs": [],
   "source": [
    "ref_imagename = 'NA5002_2AB.svs'\n",
    "#ref_imagename = 'NA3777-02_AB.svs'"
   ]
  },
  {
   "cell_type": "code",
   "execution_count": 5,
   "metadata": {},
   "outputs": [],
   "source": [
    "wsi_train = os.listdir(TRAIN_WSI_DIR)\n",
    "wsi_val = os.listdir(VAL_WSI_DIR)\n",
    "\n",
    "imagenames = sorted(wsi_val + wsi_train)\n",
    "imagenames.remove('NA5005-02_AB.svs')             # this WSI was digitalized at 40x, need resize down to 20x\n",
    "imagenames.append('NA5005-02_AB.svs')"
   ]
  },
  {
   "cell_type": "code",
   "execution_count": 6,
   "metadata": {},
   "outputs": [
    {
     "name": "stdout",
     "output_type": "stream",
     "text": [
      "CPU times: user 34min 43s, sys: 1min 14s, total: 35min 57s\n",
      "Wall time: 11min 8s\n"
     ]
    }
   ],
   "source": [
    "%%time\n",
    "# Load reference image, fit Reinhard normalizer\n",
    "ref_image = Vips.Image.new_from_file(TRAIN_WSI_DIR + ref_imagename, level=0)\n",
    "\n",
    "normalizer = normalize.Reinhard()\n",
    "normalizer.fit(ref_image)"
   ]
  },
  {
   "cell_type": "code",
   "execution_count": 7,
   "metadata": {},
   "outputs": [
    {
     "name": "stderr",
     "output_type": "stream",
     "text": [
      "\r",
      "  0%|          | 0/32 [00:00<?, ?it/s]"
     ]
    },
    {
     "name": "stdout",
     "output_type": "stream",
     "text": [
      "Loaded Image: data/Dataset 1a Development_train/NA4009-02_AB.svs\n"
     ]
    },
    {
     "name": "stderr",
     "output_type": "stream",
     "text": [
      "\r",
      "  3%|▎         | 1/32 [17:28<9:01:56, 1048.91s/it]"
     ]
    },
    {
     "name": "stdout",
     "output_type": "stream",
     "text": [
      "Loaded Image: data/Dataset 1a Development_train/NA4072-02_AB.svs\n"
     ]
    },
    {
     "name": "stderr",
     "output_type": "stream",
     "text": [
      "\r",
      "  6%|▋         | 2/32 [42:57<9:56:21, 1192.72s/it]"
     ]
    },
    {
     "name": "stdout",
     "output_type": "stream",
     "text": [
      "Loaded Image: data/Dataset 1a Development_train/NA4137-02_AB.svs\n"
     ]
    },
    {
     "name": "stderr",
     "output_type": "stream",
     "text": [
      "\r",
      "  9%|▉         | 3/32 [1:00:16<9:14:16, 1146.77s/it]"
     ]
    },
    {
     "name": "stdout",
     "output_type": "stream",
     "text": [
      "Loaded Image: data/Dataset 1a Development_train/NA4144-02_AB.svs\n"
     ]
    },
    {
     "name": "stderr",
     "output_type": "stream",
     "text": [
      "\r",
      " 12%|█▎        | 4/32 [1:15:05<8:19:00, 1069.30s/it]"
     ]
    },
    {
     "name": "stdout",
     "output_type": "stream",
     "text": [
      "Loaded Image: data/Dataset 1a Development_train/NA4185-02_AB.svs\n"
     ]
    },
    {
     "name": "stderr",
     "output_type": "stream",
     "text": [
      "\r",
      " 16%|█▌        | 5/32 [1:29:19<7:32:10, 1004.82s/it]"
     ]
    },
    {
     "name": "stdout",
     "output_type": "stream",
     "text": [
      "Loaded Image: data/Dataset 1a Development_train/NA4229-02_AB.svs\n"
     ]
    },
    {
     "name": "stderr",
     "output_type": "stream",
     "text": [
      "\r",
      " 19%|█▉        | 6/32 [1:36:34<6:01:18, 833.80s/it] "
     ]
    },
    {
     "name": "stdout",
     "output_type": "stream",
     "text": [
      "Loaded Image: data/Dataset 1a Development_train/NA4259-02_AB.svs\n"
     ]
    },
    {
     "name": "stderr",
     "output_type": "stream",
     "text": [
      "\r",
      " 22%|██▏       | 7/32 [1:51:09<5:52:32, 846.09s/it]"
     ]
    },
    {
     "name": "stdout",
     "output_type": "stream",
     "text": [
      "Loaded Image: data/Dataset 1a Development_train/NA4312-02_AB.svs\n"
     ]
    },
    {
     "name": "stderr",
     "output_type": "stream",
     "text": [
      "\r",
      " 25%|██▌       | 8/32 [2:05:25<5:39:39, 849.15s/it]"
     ]
    },
    {
     "name": "stdout",
     "output_type": "stream",
     "text": [
      "Loaded Image: data/Dataset 1a Development_train/NA4471-02_AB.svs\n"
     ]
    },
    {
     "name": "stderr",
     "output_type": "stream",
     "text": [
      "\r",
      " 28%|██▊       | 9/32 [2:22:31<5:45:50, 902.18s/it]"
     ]
    },
    {
     "name": "stdout",
     "output_type": "stream",
     "text": [
      "Loaded Image: data/Dataset 1a Development_train/NA4619-02_AB.svs\n"
     ]
    },
    {
     "name": "stderr",
     "output_type": "stream",
     "text": [
      "\r",
      " 31%|███▏      | 10/32 [2:45:09<6:21:00, 1039.09s/it]"
     ]
    },
    {
     "name": "stdout",
     "output_type": "stream",
     "text": [
      "Loaded Image: data/Dataset 1a Development_train/NA4711-02_AB.svs\n"
     ]
    },
    {
     "name": "stderr",
     "output_type": "stream",
     "text": [
      "\r",
      " 34%|███▍      | 11/32 [2:57:37<5:33:04, 951.63s/it] "
     ]
    },
    {
     "name": "stdout",
     "output_type": "stream",
     "text": [
      "Loaded Image: data/Dataset 1a Development_train/NA4722-02_AB.svs\n"
     ]
    },
    {
     "name": "stderr",
     "output_type": "stream",
     "text": [
      "\r",
      " 38%|███▊      | 12/32 [3:18:04<5:44:47, 1034.38s/it]"
     ]
    },
    {
     "name": "stdout",
     "output_type": "stream",
     "text": [
      "Loaded Image: data/Dataset 1a Development_train/NA4749-02_AB.svs\n"
     ]
    },
    {
     "name": "stderr",
     "output_type": "stream",
     "text": [
      "\r",
      " 41%|████      | 13/32 [3:34:32<5:23:03, 1020.20s/it]"
     ]
    },
    {
     "name": "stdout",
     "output_type": "stream",
     "text": [
      "Loaded Image: data/Dataset 1a Development_train/NA4751-02_AB.svs\n"
     ]
    },
    {
     "name": "stderr",
     "output_type": "stream",
     "text": [
      "\r",
      " 44%|████▍     | 14/32 [3:51:49<5:07:36, 1025.36s/it]"
     ]
    },
    {
     "name": "stdout",
     "output_type": "stream",
     "text": [
      "Loaded Image: data/Dataset 1a Development_train/NA4757-02_AB.svs\n"
     ]
    },
    {
     "name": "stderr",
     "output_type": "stream",
     "text": [
      "\r",
      " 47%|████▋     | 15/32 [4:09:45<4:54:51, 1040.70s/it]"
     ]
    },
    {
     "name": "stdout",
     "output_type": "stream",
     "text": [
      "Loaded Image: data/Dataset 1a Development_train/NA4885-02_AB17-24.svs\n"
     ]
    },
    {
     "name": "stderr",
     "output_type": "stream",
     "text": [
      "\r",
      " 50%|█████     | 16/32 [4:24:12<4:23:37, 988.59s/it] "
     ]
    },
    {
     "name": "stdout",
     "output_type": "stream",
     "text": [
      "Loaded Image: data/Dataset 1a Development_train/NA4898-02_AB17-24.svs\n"
     ]
    },
    {
     "name": "stderr",
     "output_type": "stream",
     "text": [
      "\r",
      " 53%|█████▎    | 17/32 [4:40:13<4:05:00, 980.06s/it]"
     ]
    },
    {
     "name": "stdout",
     "output_type": "stream",
     "text": [
      "Loaded Image: data/Dataset 1a Development_train/NA4918-02_AB17-24.svs\n"
     ]
    },
    {
     "name": "stderr",
     "output_type": "stream",
     "text": [
      "\r",
      " 56%|█████▋    | 18/32 [4:51:14<3:26:22, 884.45s/it]"
     ]
    },
    {
     "name": "stdout",
     "output_type": "stream",
     "text": [
      "Loaded Image: data/Dataset 1a Development_train/NA4951-02_AB17-24.svs\n"
     ]
    },
    {
     "name": "stderr",
     "output_type": "stream",
     "text": [
      "\r",
      " 59%|█████▉    | 19/32 [5:02:32<2:58:14, 822.65s/it]"
     ]
    },
    {
     "name": "stdout",
     "output_type": "stream",
     "text": [
      "Loaded Image: data/Dataset 1a Development_train/NA5001_2AB.svs\n"
     ]
    },
    {
     "name": "stderr",
     "output_type": "stream",
     "text": [
      "\r",
      " 62%|██████▎   | 20/32 [5:10:56<2:25:21, 726.79s/it]"
     ]
    },
    {
     "name": "stdout",
     "output_type": "stream",
     "text": [
      "Loaded Image: data/Dataset 1a Development_train/NA5002_2AB.svs\n"
     ]
    },
    {
     "name": "stderr",
     "output_type": "stream",
     "text": [
      "\r",
      " 66%|██████▌   | 21/32 [5:24:25<2:17:48, 751.64s/it]"
     ]
    },
    {
     "name": "stdout",
     "output_type": "stream",
     "text": [
      "Loaded Image: data/Dataset 1a Development_train/NA5003_2AB.svs\n"
     ]
    },
    {
     "name": "stderr",
     "output_type": "stream",
     "text": [
      "\r",
      " 69%|██████▉   | 22/32 [5:36:22<2:03:32, 741.23s/it]"
     ]
    },
    {
     "name": "stdout",
     "output_type": "stream",
     "text": [
      "Loaded Image: data/Dataset 1a Development_train/NA5004_02_AB.svs\n"
     ]
    },
    {
     "name": "stderr",
     "output_type": "stream",
     "text": [
      "\r",
      " 72%|███████▏  | 23/32 [5:51:35<1:58:55, 792.82s/it]"
     ]
    },
    {
     "name": "stdout",
     "output_type": "stream",
     "text": [
      "Loaded Image: data/Dataset 1a Development_train/NA_4865_02_AB1-40.svs\n"
     ]
    },
    {
     "name": "stderr",
     "output_type": "stream",
     "text": [
      "\r",
      " 75%|███████▌  | 24/32 [6:06:23<1:49:30, 821.27s/it]"
     ]
    },
    {
     "name": "stdout",
     "output_type": "stream",
     "text": [
      "Loaded Image: data/Dataset 1a Development_train/NA_4871_02_AB.svs\n"
     ]
    },
    {
     "name": "stderr",
     "output_type": "stream",
     "text": [
      "\r",
      " 78%|███████▊  | 25/32 [6:17:04<1:29:30, 767.25s/it]"
     ]
    },
    {
     "name": "stdout",
     "output_type": "stream",
     "text": [
      "Loaded Image: data/Dataset 1a Development_train/NA_4882_02_AB.svs\n"
     ]
    },
    {
     "name": "stderr",
     "output_type": "stream",
     "text": [
      "\r",
      " 81%|████████▏ | 26/32 [6:37:26<1:30:22, 903.71s/it]"
     ]
    },
    {
     "name": "stdout",
     "output_type": "stream",
     "text": [
      "Loaded Image: data/Dataset 1a Development_train/NA_4883_02_AB.svs\n"
     ]
    },
    {
     "name": "stderr",
     "output_type": "stream",
     "text": [
      "\r",
      " 84%|████████▍ | 27/32 [6:55:23<1:19:37, 955.59s/it]"
     ]
    },
    {
     "name": "stdout",
     "output_type": "stream",
     "text": [
      "Loaded Image: data/Dataset 1a Development_train/NA_4888_02_AB17-24.svs\n"
     ]
    },
    {
     "name": "stderr",
     "output_type": "stream",
     "text": [
      "\r",
      " 88%|████████▊ | 28/32 [7:10:55<1:03:14, 948.51s/it]"
     ]
    },
    {
     "ename": "NameError",
     "evalue": "name 'TEST_WSI_DIR' is not defined",
     "output_type": "error",
     "traceback": [
      "\u001b[0;31m---------------------------------------------------------------------------\u001b[0m",
      "\u001b[0;31mError\u001b[0m                                     Traceback (most recent call last)",
      "\u001b[0;32m<ipython-input-7-32ab91fb8c89>\u001b[0m in \u001b[0;36m<module>\u001b[0;34m\u001b[0m\n\u001b[1;32m      3\u001b[0m     \u001b[0;32mtry\u001b[0m\u001b[0;34m:\u001b[0m\u001b[0;34m\u001b[0m\u001b[0;34m\u001b[0m\u001b[0m\n\u001b[0;32m----> 4\u001b[0;31m         \u001b[0mvips_img\u001b[0m \u001b[0;34m=\u001b[0m \u001b[0mVips\u001b[0m\u001b[0;34m.\u001b[0m\u001b[0mImage\u001b[0m\u001b[0;34m.\u001b[0m\u001b[0mnew_from_file\u001b[0m\u001b[0;34m(\u001b[0m\u001b[0mTRAIN_WSI_DIR\u001b[0m \u001b[0;34m+\u001b[0m \u001b[0mimagename\u001b[0m\u001b[0;34m,\u001b[0m \u001b[0mlevel\u001b[0m\u001b[0;34m=\u001b[0m\u001b[0;36m0\u001b[0m\u001b[0;34m)\u001b[0m\u001b[0;34m\u001b[0m\u001b[0;34m\u001b[0m\u001b[0m\n\u001b[0m\u001b[1;32m      5\u001b[0m         \u001b[0mprint\u001b[0m\u001b[0;34m(\u001b[0m\u001b[0;34m\"Loaded Image: \"\u001b[0m \u001b[0;34m+\u001b[0m \u001b[0mTRAIN_WSI_DIR\u001b[0m \u001b[0;34m+\u001b[0m \u001b[0mimagename\u001b[0m\u001b[0;34m)\u001b[0m\u001b[0;34m\u001b[0m\u001b[0;34m\u001b[0m\u001b[0m\n",
      "\u001b[0;32m/usr/local/lib/python3.6/dist-packages/pyvips/vimage.py\u001b[0m in \u001b[0;36mnew_from_file\u001b[0;34m(vips_filename, **kwargs)\u001b[0m\n\u001b[1;32m    216\u001b[0m         \u001b[0;32mif\u001b[0m \u001b[0mpointer\u001b[0m \u001b[0;34m==\u001b[0m \u001b[0mffi\u001b[0m\u001b[0;34m.\u001b[0m\u001b[0mNULL\u001b[0m\u001b[0;34m:\u001b[0m\u001b[0;34m\u001b[0m\u001b[0;34m\u001b[0m\u001b[0m\n\u001b[0;32m--> 217\u001b[0;31m             \u001b[0;32mraise\u001b[0m \u001b[0mError\u001b[0m\u001b[0;34m(\u001b[0m\u001b[0;34m'unable to load from file {0}'\u001b[0m\u001b[0;34m.\u001b[0m\u001b[0mformat\u001b[0m\u001b[0;34m(\u001b[0m\u001b[0mvips_filename\u001b[0m\u001b[0;34m)\u001b[0m\u001b[0;34m)\u001b[0m\u001b[0;34m\u001b[0m\u001b[0;34m\u001b[0m\u001b[0m\n\u001b[0m\u001b[1;32m    218\u001b[0m         \u001b[0mname\u001b[0m \u001b[0;34m=\u001b[0m \u001b[0m_to_string\u001b[0m\u001b[0;34m(\u001b[0m\u001b[0mpointer\u001b[0m\u001b[0;34m)\u001b[0m\u001b[0;34m\u001b[0m\u001b[0;34m\u001b[0m\u001b[0m\n",
      "\u001b[0;31mError\u001b[0m: unable to load from file b'data/Dataset 1a Development_train/NA_4896_02_AB17-24.svs'\n  VipsForeignLoad: file \"data/Dataset 1a Development_train/NA_4896_02_AB17-24.svs\" not found\n",
      "\nDuring handling of the above exception, another exception occurred:\n",
      "\u001b[0;31mNameError\u001b[0m                                 Traceback (most recent call last)",
      "\u001b[0;32m<ipython-input-7-32ab91fb8c89>\u001b[0m in \u001b[0;36m<module>\u001b[0;34m\u001b[0m\n\u001b[1;32m      7\u001b[0m     \u001b[0;32mexcept\u001b[0m\u001b[0;34m:\u001b[0m\u001b[0;34m\u001b[0m\u001b[0;34m\u001b[0m\u001b[0m\n\u001b[1;32m      8\u001b[0m         \u001b[0;31m#vips_img = Vips.Image.new_from_file(VAL_WSI_DIR + imagename, level=0)\u001b[0m\u001b[0;34m\u001b[0m\u001b[0;34m\u001b[0m\u001b[0;34m\u001b[0m\u001b[0m\n\u001b[0;32m----> 9\u001b[0;31m         \u001b[0mvips_img\u001b[0m \u001b[0;34m=\u001b[0m \u001b[0mVips\u001b[0m\u001b[0;34m.\u001b[0m\u001b[0mImage\u001b[0m\u001b[0;34m.\u001b[0m\u001b[0mnew_from_file\u001b[0m\u001b[0;34m(\u001b[0m\u001b[0mTEST_WSI_DIR\u001b[0m \u001b[0;34m+\u001b[0m \u001b[0mimagename\u001b[0m\u001b[0;34m,\u001b[0m \u001b[0mlevel\u001b[0m\u001b[0;34m=\u001b[0m\u001b[0;36m0\u001b[0m\u001b[0;34m)\u001b[0m\u001b[0;34m\u001b[0m\u001b[0;34m\u001b[0m\u001b[0m\n\u001b[0m\u001b[1;32m     10\u001b[0m         \u001b[0mprint\u001b[0m\u001b[0;34m(\u001b[0m\u001b[0;34m\"Loaded Image: \"\u001b[0m \u001b[0;34m+\u001b[0m \u001b[0mTEST_WSI_DIR\u001b[0m \u001b[0;34m+\u001b[0m \u001b[0mimagename\u001b[0m\u001b[0;34m)\u001b[0m\u001b[0;34m\u001b[0m\u001b[0;34m\u001b[0m\u001b[0m\n\u001b[1;32m     11\u001b[0m     \u001b[0mout\u001b[0m \u001b[0;34m=\u001b[0m \u001b[0mnormalizer\u001b[0m\u001b[0;34m.\u001b[0m\u001b[0mtransform\u001b[0m\u001b[0;34m(\u001b[0m\u001b[0mvips_img\u001b[0m\u001b[0;34m)\u001b[0m\u001b[0;34m\u001b[0m\u001b[0;34m\u001b[0m\u001b[0m\n",
      "\u001b[0;31mNameError\u001b[0m: name 'TEST_WSI_DIR' is not defined"
     ]
    }
   ],
   "source": [
    "stats_dict = {}\n",
    "for imagename in tqdm(imagenames[:-1]):\n",
    "    try:\n",
    "        vips_img = Vips.Image.new_from_file(TRAIN_WSI_DIR + imagename, level=0)\n",
    "        print(\"Loaded Image: \" + TRAIN_WSI_DIR + imagename)\n",
    "        #vips_img = Vips.Image.new_from_file(TEST_WSI_DIR + imagename, level=0)\n",
    "    except:\n",
    "        #vips_img = Vips.Image.new_from_file(VAL_WSI_DIR + imagename, level=0)\n",
    "        vips_img = Vips.Image.new_from_file(TEST_WSI_DIR + imagename, level=0)\n",
    "        print(\"Loaded Image: \" + TEST_WSI_DIR + imagename)\n",
    "    out = normalizer.transform(vips_img)\n",
    "    out.filename = vips_img.filename\n",
    "    vips_utils.save_and_tile(out, SAVE_DIR)\n",
    "    stats_dict[imagename] = normalizer.image_stats"
   ]
  },
  {
   "cell_type": "code",
   "execution_count": 8,
   "metadata": {},
   "outputs": [
    {
     "name": "stderr",
     "output_type": "stream",
     "text": [
      "\n",
      "  0%|          | 0/1 [00:00<?, ?it/s]\u001b[A\n",
      "100%|██████████| 1/1 [49:03<00:00, 2943.39s/it]\u001b[A"
     ]
    }
   ],
   "source": [
    "#  Resize the single 40x image down to 20x\n",
    "for imagename in tqdm(imagenames[-1:]):\n",
    "    vips_img = Vips.Image.new_from_file(TRAIN_WSI_DIR + imagename, level=0)\n",
    "    vips_img = vips_img.resize(0.5)\n",
    "    out = normalizer.transform(vips_img)\n",
    "    out.filename = vips_img.filename\n",
    "    vips_utils.save_and_tile(out, SAVE_DIR)\n",
    "    stats_dict[imagename] = normalizer.image_stats"
   ]
  },
  {
   "cell_type": "code",
   "execution_count": 9,
   "metadata": {},
   "outputs": [],
   "source": [
    "import pandas as pd\n",
    "stats = pd.DataFrame(stats_dict)"
   ]
  },
  {
   "cell_type": "code",
   "execution_count": 10,
   "metadata": {},
   "outputs": [],
   "source": [
    "stats = stats.transpose()"
   ]
  },
  {
   "cell_type": "code",
   "execution_count": 11,
   "metadata": {},
   "outputs": [],
   "source": [
    "stats.columns = 'means', 'stds'"
   ]
  },
  {
   "cell_type": "code",
   "execution_count": 12,
   "metadata": {},
   "outputs": [
    {
     "name": "stdout",
     "output_type": "stream",
     "text": [
      "                                                                    means  \\\n",
      "NA4009-02_AB.svs        (88.79989640718921, 0.7796811779427336, 1.5307...   \n",
      "NA4072-02_AB.svs        (85.45899856425426, 1.0290791363135563, -1.003...   \n",
      "NA4137-02_AB.svs        (89.37619838928055, 1.1594221235255688, -1.090...   \n",
      "NA4144-02_AB.svs        (87.65374174716155, 1.554181156613537, -0.2189...   \n",
      "NA4185-02_AB.svs        (90.25360167112896, 0.7139148105981892, 0.4994...   \n",
      "NA4229-02_AB.svs        (89.39547476784757, 0.4691240658320603, 1.1783...   \n",
      "NA4259-02_AB.svs        (88.96922948784508, 0.6069457818993456, -0.060...   \n",
      "NA4312-02_AB.svs        (91.08530689404986, 0.40543170409731605, 1.256...   \n",
      "NA4471-02_AB.svs        (91.11351936054815, 0.6167910832749283, 1.1381...   \n",
      "NA4619-02_AB.svs        (87.36757718530629, 0.972118135758152, -0.5145...   \n",
      "NA4711-02_AB.svs        (89.64046849620684, 0.64518834848795, -0.08328...   \n",
      "NA4722-02_AB.svs        (85.88080947016267, 1.0089842743077018, -1.180...   \n",
      "NA4749-02_AB.svs        (88.97125462741764, 0.6592604191487973, -1.206...   \n",
      "NA4751-02_AB.svs        (88.14224914149275, 0.8531696834708011, -0.665...   \n",
      "NA4757-02_AB.svs        (86.72437320295937, 1.2115647955818245, -2.277...   \n",
      "NA4885-02_AB17-24.svs   (84.60527679837496, 2.56374568977595, -2.13542...   \n",
      "NA4898-02_AB17-24.svs   (82.84260185686448, 4.0542957744154045, -7.372...   \n",
      "NA4918-02_AB17-24.svs   (87.03289774118686, 2.255827347609571, -1.4156...   \n",
      "NA4951-02_AB17-24.svs   (83.51360000889707, 3.421413904626623, -2.1146...   \n",
      "NA5001_2AB.svs          (79.01442004618858, 4.149987741163043, 2.29271...   \n",
      "NA5002_2AB.svs          (84.9920495963178, 2.8085441327410146, -3.9672...   \n",
      "NA5003_2AB.svs          (86.66770313758248, 2.6037064285463063, -3.357...   \n",
      "NA5004_02_AB.svs        (85.48064196418211, 2.5666987477900536, -1.762...   \n",
      "NA_4865_02_AB1-40.svs   (87.86549784035628, 1.9767718460813106, -3.614...   \n",
      "NA_4871_02_AB.svs       (88.53937684687689, 1.7780762169509436, -3.961...   \n",
      "NA_4882_02_AB.svs       (90.1775785295634, 1.3437992297266297, -2.6102...   \n",
      "NA_4883_02_AB.svs       (87.4936450909836, 2.2369764633774594, -4.3819...   \n",
      "NA_4888_02_AB17-24.svs  (83.57563694342103, 2.463134984325977, 0.48912...   \n",
      "NA5005-02_AB.svs        (82.88809163621667, 3.2744163056554343, -2.614...   \n",
      "\n",
      "                                                                     stds  \n",
      "NA4009-02_AB.svs        (13.309693300256395, 3.614022949496599, 5.6388...  \n",
      "NA4072-02_AB.svs        (18.80961760200364, 3.3862714286647866, 4.0524...  \n",
      "NA4137-02_AB.svs        (9.656529497650322, 3.7172212779681693, 4.6003...  \n",
      "NA4144-02_AB.svs        (10.825813031910764, 4.037435227239757, 6.1328...  \n",
      "NA4185-02_AB.svs        (9.081634019930673, 3.5328397391110626, 5.0654...  \n",
      "NA4229-02_AB.svs        (8.686648550654736, 3.5553281762235875, 6.0768...  \n",
      "NA4259-02_AB.svs        (10.012642022674507, 3.5489507200955748, 5.437...  \n",
      "NA4312-02_AB.svs        (7.662059952881526, 2.3359701347234547, 4.3557...  \n",
      "NA4471-02_AB.svs        (7.327277875001656, 2.154893434233548, 3.47540...  \n",
      "NA4619-02_AB.svs        (14.552723266198045, 3.463362286808983, 5.0786...  \n",
      "NA4711-02_AB.svs        (9.964676584948496, 3.235378025367301, 4.59715...  \n",
      "NA4722-02_AB.svs        (14.654658788613089, 3.600341573430672, 4.8690...  \n",
      "NA4749-02_AB.svs        (10.316526462280109, 3.4468275515717397, 5.077...  \n",
      "NA4751-02_AB.svs        (10.629483424256387, 3.69444353904341, 5.19674...  \n",
      "NA4757-02_AB.svs        (10.327322927432917, 3.2753568271601754, 4.978...  \n",
      "NA4885-02_AB17-24.svs   (12.718982705494941, 4.035491053461125, 6.3574...  \n",
      "NA4898-02_AB17-24.svs   (11.799656980147565, 4.197382027315719, 7.1956...  \n",
      "NA4918-02_AB17-24.svs   (11.974712911459202, 3.951343516168043, 6.9968...  \n",
      "NA4951-02_AB17-24.svs   (15.218794045504033, 4.78535117131798, 8.03102...  \n",
      "NA5001_2AB.svs          (17.011488088389836, 4.767748965954356, 5.4580...  \n",
      "NA5002_2AB.svs          (12.747472011120562, 3.765301171158096, 5.5942...  \n",
      "NA5003_2AB.svs          (10.728730598885143, 3.3603827012590397, 4.672...  \n",
      "NA5004_02_AB.svs        (12.724796083527561, 3.598433581411219, 5.1953...  \n",
      "NA_4865_02_AB1-40.svs   (9.943273821308091, 3.164552659562387, 5.01672...  \n",
      "NA_4871_02_AB.svs       (8.698733982476833, 3.2781412562087344, 5.0116...  \n",
      "NA_4882_02_AB.svs       (8.19647049838547, 3.0101444447807904, 4.63822...  \n",
      "NA_4883_02_AB.svs       (12.180158338877108, 3.592832713163515, 5.7110...  \n",
      "NA_4888_02_AB17-24.svs  (14.204001833272153, 4.3045696996330935, 6.446...  \n",
      "NA5005-02_AB.svs        (14.234797118559676, 3.751330126016654, 4.8431...  \n"
     ]
    }
   ],
   "source": [
    "print(stats)"
   ]
  },
  {
   "cell_type": "code",
   "execution_count": null,
   "metadata": {},
   "outputs": [],
   "source": []
  }
 ],
 "metadata": {
  "kernelspec": {
   "display_name": "Python 3",
   "language": "python",
   "name": "python3"
  },
  "language_info": {
   "codemirror_mode": {
    "name": "ipython",
    "version": 3
   },
   "file_extension": ".py",
   "mimetype": "text/x-python",
   "name": "python",
   "nbconvert_exporter": "python",
   "pygments_lexer": "ipython3",
   "version": "3.6.8"
  }
 },
 "nbformat": 4,
 "nbformat_minor": 2
}
