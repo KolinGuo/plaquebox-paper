{
 "cells": [
  {
   "cell_type": "markdown",
   "metadata": {},
   "source": [
    "### 1.1 Preprocessing - Reinhard Normalization and WSI Tiling\n",
    "\n",
    "As a first preprocessing step, all slides were color normalized with respect to a reference image selected by an expert neuropathologist. Color normalization was performed using the method described by [Reinhard et. al](https://ieeexplore.ieee.org/document/946629).\n",
    "\n",
    "The resulting color normalized whole slide images were tiled using PyVips to generate 1536 x 1536 images patches."
   ]
  },
  {
   "cell_type": "code",
   "execution_count": 1,
   "metadata": {},
   "outputs": [],
   "source": [
    "import os\n",
    "import glob\n",
    "import numpy as np\n",
    "import cv2\n",
    "import matplotlib.pyplot as plt\n",
    "import pyvips as Vips\n",
    "from tqdm import tqdm\n",
    "\n",
    "from utils import vips_utils, normalize"
   ]
  },
  {
   "cell_type": "code",
   "execution_count": 2,
   "metadata": {},
   "outputs": [],
   "source": [
    "TRAIN_WSI_DIR = 'data/Dataset 1a Development_train/'              # WSIs in the training set\n",
    "#VAL_WSI_DIR = 'data/Dataset 1b Development_validation/'           # WSIs in the validation set\n",
    "TEST_WSI_DIR = 'data/box/'\n",
    "\n",
    "SAVE_DIR = 'data/norm_tiles/'"
   ]
  },
  {
   "cell_type": "code",
   "execution_count": 3,
   "metadata": {},
   "outputs": [],
   "source": [
    "if not os.path.exists(SAVE_DIR):\n",
    "        os.makedirs(SAVE_DIR)"
   ]
  },
  {
   "cell_type": "code",
   "execution_count": 4,
   "metadata": {},
   "outputs": [],
   "source": [
    "ref_imagename = 'NA5002_2AB.svs'\n",
    "#ref_imagename = 'NA3777-02_AB.svs'"
   ]
  },
  {
   "cell_type": "code",
   "execution_count": 5,
   "metadata": {},
   "outputs": [
    {
     "name": "stdout",
     "output_type": "stream",
     "text": [
      "['NA3777-02_AB.svs', 'NA4077-02_AB.svs', 'NA4092-02_AB.svs', 'NA4107-02_AB.svs', 'NA4160-02_AB.svs', 'NA4195-02_AB.svs', 'NA4256-02_AB.svs', 'NA4299-02_AB.svs', 'NA4391-02_AB.svs', 'NA4450-02_AB.svs', 'NA4463-02_AB.svs', 'NA4471-02_AB.svs', 'NA4553-02_AB.svs', 'NA4626-02_AB.svs', 'NA4672-02_AB.svs', 'NA4675-02_AB.svs', 'NA4691-02_AB.svs', 'NA4695-02_AB.svs', 'NA5002_2AB.svs']\n"
     ]
    }
   ],
   "source": [
    "wsi_train = os.listdir(TRAIN_WSI_DIR)\n",
    "#wsi_val = os.listdir(VAL_WSI_DIR)\n",
    "wsi_test = os.listdir(TEST_WSI_DIR)\n",
    "\n",
    "#imagenames = sorted(wsi_val + wsi_train)\n",
    "imagenames = sorted(wsi_test + [ref_imagename])\n",
    "#imagenames.remove('NA5005-02_AB.svs')             # this WSI was digitalized at 40x, need resize down to 20x\n",
    "#imagenames.append('NA5005-02_AB.svs')\n",
    "print(imagenames)"
   ]
  },
  {
   "cell_type": "code",
   "execution_count": 6,
   "metadata": {},
   "outputs": [
    {
     "name": "stdout",
     "output_type": "stream",
     "text": [
      "CPU times: user 35min 44s, sys: 3min 13s, total: 38min 58s\n",
      "Wall time: 4min 43s\n"
     ]
    }
   ],
   "source": [
    "%%time\n",
    "# Load reference image, fit Reinhard normalizer\n",
    "ref_image = Vips.Image.new_from_file(TRAIN_WSI_DIR + ref_imagename, level=0)\n",
    "#ref_image = Vips.Image.new_from_file(TEST_WSI_DIR + ref_imagename, level=0)\n",
    "\n",
    "normalizer = normalize.Reinhard()\n",
    "normalizer.fit(ref_image)"
   ]
  },
  {
   "cell_type": "code",
   "execution_count": 7,
   "metadata": {},
   "outputs": [
    {
     "name": "stderr",
     "output_type": "stream",
     "text": [
      "\r",
      "  0%|          | 0/18 [00:00<?, ?it/s]"
     ]
    },
    {
     "name": "stdout",
     "output_type": "stream",
     "text": [
      "Loaded Image: data/box/NA3777-02_AB.svs\n"
     ]
    },
    {
     "name": "stderr",
     "output_type": "stream",
     "text": [
      "\r",
      "  6%|▌         | 1/18 [07:04<2:00:09, 424.07s/it]"
     ]
    },
    {
     "name": "stdout",
     "output_type": "stream",
     "text": [
      "Loaded Image: data/box/NA4077-02_AB.svs\n"
     ]
    },
    {
     "name": "stderr",
     "output_type": "stream",
     "text": [
      "\r",
      " 11%|█         | 2/18 [16:37<2:05:01, 468.82s/it]"
     ]
    },
    {
     "name": "stdout",
     "output_type": "stream",
     "text": [
      "Loaded Image: data/box/NA4092-02_AB.svs\n"
     ]
    },
    {
     "name": "stderr",
     "output_type": "stream",
     "text": [
      "\r",
      " 17%|█▋        | 3/18 [25:19<2:01:14, 484.95s/it]"
     ]
    },
    {
     "name": "stdout",
     "output_type": "stream",
     "text": [
      "Loaded Image: data/box/NA4107-02_AB.svs\n"
     ]
    },
    {
     "name": "stderr",
     "output_type": "stream",
     "text": [
      "\r",
      " 22%|██▏       | 4/18 [32:10<1:47:56, 462.61s/it]"
     ]
    },
    {
     "name": "stdout",
     "output_type": "stream",
     "text": [
      "Loaded Image: data/box/NA4160-02_AB.svs\n"
     ]
    },
    {
     "name": "stderr",
     "output_type": "stream",
     "text": [
      "\r",
      " 28%|██▊       | 5/18 [39:10<1:37:27, 449.77s/it]"
     ]
    },
    {
     "name": "stdout",
     "output_type": "stream",
     "text": [
      "Loaded Image: data/box/NA4195-02_AB.svs\n"
     ]
    },
    {
     "name": "stderr",
     "output_type": "stream",
     "text": [
      "\r",
      " 33%|███▎      | 6/18 [45:29<1:25:43, 428.60s/it]"
     ]
    },
    {
     "name": "stdout",
     "output_type": "stream",
     "text": [
      "Loaded Image: data/box/NA4256-02_AB.svs\n"
     ]
    },
    {
     "name": "stderr",
     "output_type": "stream",
     "text": [
      "\r",
      " 39%|███▉      | 7/18 [53:47<1:22:23, 449.45s/it]"
     ]
    },
    {
     "name": "stdout",
     "output_type": "stream",
     "text": [
      "Loaded Image: data/box/NA4299-02_AB.svs\n"
     ]
    },
    {
     "name": "stderr",
     "output_type": "stream",
     "text": [
      "\r",
      " 44%|████▍     | 8/18 [1:01:01<1:14:09, 444.96s/it]"
     ]
    },
    {
     "name": "stdout",
     "output_type": "stream",
     "text": [
      "Loaded Image: data/box/NA4391-02_AB.svs\n"
     ]
    },
    {
     "name": "stderr",
     "output_type": "stream",
     "text": [
      "\r",
      " 50%|█████     | 9/18 [1:07:49<1:05:02, 433.65s/it]"
     ]
    },
    {
     "name": "stdout",
     "output_type": "stream",
     "text": [
      "Loaded Image: data/box/NA4450-02_AB.svs\n"
     ]
    },
    {
     "name": "stderr",
     "output_type": "stream",
     "text": [
      "\r",
      " 56%|█████▌    | 10/18 [1:15:37<59:13, 444.16s/it] "
     ]
    },
    {
     "name": "stdout",
     "output_type": "stream",
     "text": [
      "Loaded Image: data/box/NA4463-02_AB.svs\n"
     ]
    },
    {
     "name": "stderr",
     "output_type": "stream",
     "text": [
      "\r",
      " 61%|██████    | 11/18 [1:22:40<51:03, 437.71s/it]"
     ]
    },
    {
     "name": "stdout",
     "output_type": "stream",
     "text": [
      "Loaded Image: data/Dataset 1a Development_train/NA4471-02_AB.svs\n"
     ]
    },
    {
     "name": "stderr",
     "output_type": "stream",
     "text": [
      "\r",
      " 67%|██████▋   | 12/18 [1:29:29<42:54, 429.10s/it]"
     ]
    },
    {
     "name": "stdout",
     "output_type": "stream",
     "text": [
      "Loaded Image: data/box/NA4553-02_AB.svs\n"
     ]
    },
    {
     "name": "stderr",
     "output_type": "stream",
     "text": [
      "\r",
      " 72%|███████▏  | 13/18 [1:38:14<38:09, 457.94s/it]"
     ]
    },
    {
     "name": "stdout",
     "output_type": "stream",
     "text": [
      "Loaded Image: data/box/NA4626-02_AB.svs\n"
     ]
    },
    {
     "name": "stderr",
     "output_type": "stream",
     "text": [
      "\r",
      " 78%|███████▊  | 14/18 [1:43:56<28:11, 422.99s/it]"
     ]
    },
    {
     "name": "stdout",
     "output_type": "stream",
     "text": [
      "Loaded Image: data/box/NA4672-02_AB.svs\n"
     ]
    },
    {
     "name": "stderr",
     "output_type": "stream",
     "text": [
      "\r",
      " 83%|████████▎ | 15/18 [1:48:59<19:21, 387.17s/it]"
     ]
    },
    {
     "name": "stdout",
     "output_type": "stream",
     "text": [
      "Loaded Image: data/box/NA4675-02_AB.svs\n"
     ]
    },
    {
     "name": "stderr",
     "output_type": "stream",
     "text": [
      "\r",
      " 89%|████████▉ | 16/18 [1:56:03<13:16, 398.20s/it]"
     ]
    },
    {
     "name": "stdout",
     "output_type": "stream",
     "text": [
      "Loaded Image: data/box/NA4691-02_AB.svs\n"
     ]
    },
    {
     "name": "stderr",
     "output_type": "stream",
     "text": [
      "\r",
      " 94%|█████████▍| 17/18 [2:02:25<06:33, 393.11s/it]"
     ]
    },
    {
     "name": "stdout",
     "output_type": "stream",
     "text": [
      "Loaded Image: data/box/NA4695-02_AB.svs\n"
     ]
    },
    {
     "name": "stderr",
     "output_type": "stream",
     "text": [
      "100%|██████████| 18/18 [2:09:02<00:00, 394.54s/it]\n"
     ]
    }
   ],
   "source": [
    "stats_dict = {}\n",
    "for imagename in tqdm(imagenames[:-1]):\n",
    "    try:\n",
    "        vips_img = Vips.Image.new_from_file(TRAIN_WSI_DIR + imagename, level=0)\n",
    "        print(\"Loaded Image: \" + TRAIN_WSI_DIR + imagename)\n",
    "        #vips_img = Vips.Image.new_from_file(TEST_WSI_DIR + imagename, level=0)\n",
    "    except:\n",
    "        #vips_img = Vips.Image.new_from_file(VAL_WSI_DIR + imagename, level=0)\n",
    "        vips_img = Vips.Image.new_from_file(TEST_WSI_DIR + imagename, level=0)\n",
    "        print(\"Loaded Image: \" + TEST_WSI_DIR + imagename)\n",
    "    out = normalizer.transform(vips_img)\n",
    "    out.filename = vips_img.filename\n",
    "    vips_utils.save_and_tile(out, SAVE_DIR)\n",
    "    stats_dict[imagename] = normalizer.image_stats"
   ]
  },
  {
   "cell_type": "code",
   "execution_count": 8,
   "metadata": {},
   "outputs": [],
   "source": [
    "# Resize the single 40x image down to 20x\n",
    "# for imagename in tqdm(imagenames[-1:]):\n",
    "#     vips_img = Vips.Image.new_from_file(TRAIN_WSI_DIR + imagename, level=0)\n",
    "#     vips_img = vips_img.resize(0.5)\n",
    "#     out = normalizer.transform(vips_img)\n",
    "#     out.filename = vips_img.filename\n",
    "#     vips_utils.save_and_tile(out, SAVE_DIR)\n",
    "#     stats_dict[imagename] = normalizer.image_stats"
   ]
  },
  {
   "cell_type": "code",
   "execution_count": 9,
   "metadata": {},
   "outputs": [],
   "source": [
    "import pandas as pd\n",
    "stats = pd.DataFrame(stats_dict)"
   ]
  },
  {
   "cell_type": "code",
   "execution_count": 10,
   "metadata": {},
   "outputs": [],
   "source": [
    "stats = stats.transpose()"
   ]
  },
  {
   "cell_type": "code",
   "execution_count": 11,
   "metadata": {},
   "outputs": [],
   "source": [
    "stats.columns = 'means', 'stds'"
   ]
  },
  {
   "cell_type": "code",
   "execution_count": 12,
   "metadata": {},
   "outputs": [
    {
     "name": "stdout",
     "output_type": "stream",
     "text": [
      "                                                              means  \\\n",
      "NA3777-02_AB.svs  (84.8768307838968, 1.8838342760856104, 6.54897...   \n",
      "NA4077-02_AB.svs  (91.3131558033885, 0.7904653477813409, 0.51400...   \n",
      "NA4092-02_AB.svs  (87.88871953616047, 1.1075666993207716, 0.8033...   \n",
      "NA4107-02_AB.svs  (90.94294739155603, 0.5887239399026774, 0.9401...   \n",
      "NA4160-02_AB.svs  (88.89899260669029, 0.9974418293237802, 0.3308...   \n",
      "NA4195-02_AB.svs  (86.47197838382841, 1.6366618861228261, -0.850...   \n",
      "NA4256-02_AB.svs  (87.56450328065948, 0.8650946384410637, 0.6600...   \n",
      "NA4299-02_AB.svs  (86.76713213578492, 1.450629252548881, -1.0392...   \n",
      "NA4391-02_AB.svs  (82.77101907259605, 1.8684124681141927, -2.024...   \n",
      "NA4450-02_AB.svs  (88.85473144493126, 0.6891529168668056, 0.2871...   \n",
      "NA4463-02_AB.svs  (87.63791836872299, 1.2089569343004831, -2.268...   \n",
      "NA4471-02_AB.svs  (91.11351936053985, 0.6167910832749284, 1.1381...   \n",
      "NA4553-02_AB.svs  (89.44513337546904, 0.8088347968056662, -2.102...   \n",
      "NA4626-02_AB.svs  (88.80736081174344, 0.5035274274088067, 0.1786...   \n",
      "NA4672-02_AB.svs  (90.54923343657453, 0.5536931115542901, -0.568...   \n",
      "NA4675-02_AB.svs  (87.86077144315156, 0.9125827374850064, -1.226...   \n",
      "NA4691-02_AB.svs  (89.35840980494326, 0.535307197465996, -0.0415...   \n",
      "NA4695-02_AB.svs  (86.43177491614397, 1.1903603895019927, 1.9656...   \n",
      "\n",
      "                                                               stds  \n",
      "NA3777-02_AB.svs  (14.247819185804333, 3.8341760550488235, 8.065...  \n",
      "NA4077-02_AB.svs  (9.036937473226695, 2.337578975880292, 3.51060...  \n",
      "NA4092-02_AB.svs  (10.793193395801662, 3.5167614917395333, 4.748...  \n",
      "NA4107-02_AB.svs  (9.001454989771629, 2.948619263875044, 4.62121...  \n",
      "NA4160-02_AB.svs  (11.644025608735737, 3.48705094097178, 5.20117...  \n",
      "NA4195-02_AB.svs  (11.683442084437928, 4.004310941363426, 5.8250...  \n",
      "NA4256-02_AB.svs  (11.288909281952565, 3.499303666533264, 5.3892...  \n",
      "NA4299-02_AB.svs  (10.866500581468692, 3.4531564534394366, 5.331...  \n",
      "NA4391-02_AB.svs  (15.429598442190967, 3.715407401497583, 5.9052...  \n",
      "NA4450-02_AB.svs  (12.289623450390927, 3.11486791328478, 4.81066...  \n",
      "NA4463-02_AB.svs  (10.50289892046125, 3.295173888770977, 4.73136...  \n",
      "NA4471-02_AB.svs  (7.327277745675325, 2.154893433518903, 3.47540...  \n",
      "NA4553-02_AB.svs  (10.109009876681508, 1.873856678022911, 4.0233...  \n",
      "NA4626-02_AB.svs  (10.045342578942991, 3.4393120351530415, 4.442...  \n",
      "NA4672-02_AB.svs  (8.67328190914048, 3.088905941564474, 4.649906...  \n",
      "NA4675-02_AB.svs  (10.426725861292697, 3.377455257752011, 5.0604...  \n",
      "NA4691-02_AB.svs  (10.122607934455162, 3.352435935585997, 4.5437...  \n",
      "NA4695-02_AB.svs  (12.050187873053364, 3.390017452522661, 5.3174...  \n"
     ]
    }
   ],
   "source": [
    "print(stats)"
   ]
  },
  {
   "cell_type": "code",
   "execution_count": null,
   "metadata": {},
   "outputs": [],
   "source": []
  }
 ],
 "metadata": {
  "kernelspec": {
   "display_name": "Python 3",
   "language": "python",
   "name": "python3"
  },
  "language_info": {
   "codemirror_mode": {
    "name": "ipython",
    "version": 3
   },
   "file_extension": ".py",
   "mimetype": "text/x-python",
   "name": "python",
   "nbconvert_exporter": "python",
   "pygments_lexer": "ipython3",
   "version": "3.6.8"
  }
 },
 "nbformat": 4,
 "nbformat_minor": 2
}
