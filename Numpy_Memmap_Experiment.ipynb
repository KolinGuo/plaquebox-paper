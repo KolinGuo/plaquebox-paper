{
 "cells": [
  {
   "cell_type": "code",
   "execution_count": 3,
   "metadata": {},
   "outputs": [
    {
     "name": "stdout",
     "output_type": "stream",
     "text": [
      "/tmp/tmp7bakompo\n"
     ]
    }
   ],
   "source": [
    "from tempfile import mkdtemp\n",
    "import shutil\n",
    "dirpath = mkdtemp()\n",
    "fileA = os.path.join(dirpath, 'testA.dat')\n",
    "fileB = os.path.join(dirpath, 'testB.dat')\n",
    "A = np.memmap(fileA, dtype='float64', mode='w+', shape=(47616, 55296, 3))\n",
    "print(dirpath)\n",
    "# A[:] = np.ones((47616, 55296, 3))\n",
    "# del A\n",
    "#shutil.rmtree(dirpath)"
   ]
  },
  {
   "cell_type": "code",
   "execution_count": 4,
   "metadata": {},
   "outputs": [],
   "source": [
    "A[:] = np.ones((47616, 55296, 3))"
   ]
  },
  {
   "cell_type": "code",
   "execution_count": null,
   "metadata": {},
   "outputs": [],
   "source": [
    "A"
   ]
  },
  {
   "cell_type": "code",
   "execution_count": null,
   "metadata": {},
   "outputs": [],
   "source": [
    "A[:] = -np.log10(A[:])"
   ]
  },
  {
   "cell_type": "code",
   "execution_count": 9,
   "metadata": {},
   "outputs": [
    {
     "name": "stdout",
     "output_type": "stream",
     "text": [
      "<class 'numpy.ndarray'> <class 'numpy.memmap'>\n"
     ]
    }
   ],
   "source": [
    "arr = np.empty((47616*55296, 3), dtype='float64')\n",
    "print(type(arr), type(A))"
   ]
  },
  {
   "cell_type": "code",
   "execution_count": 10,
   "metadata": {},
   "outputs": [
    {
     "name": "stdout",
     "output_type": "stream",
     "text": [
      "<class 'numpy.ndarray'> <class 'numpy.memmap'>\n"
     ]
    }
   ],
   "source": [
    "arr[:] = np.reshape(A, (-1, 3))\n",
    "print(type(arr), type(A))"
   ]
  },
  {
   "cell_type": "code",
   "execution_count": 11,
   "metadata": {},
   "outputs": [
    {
     "data": {
      "text/plain": [
       "(2632974336, 3)"
      ]
     },
     "execution_count": 11,
     "metadata": {},
     "output_type": "execute_result"
    }
   ],
   "source": [
    "arr.shape"
   ]
  },
  {
   "cell_type": "code",
   "execution_count": 12,
   "metadata": {},
   "outputs": [
    {
     "data": {
      "text/plain": [
       "(47616, 55296, 3)"
      ]
     },
     "execution_count": 12,
     "metadata": {},
     "output_type": "execute_result"
    }
   ],
   "source": [
    "A.shape"
   ]
  },
  {
   "cell_type": "code",
   "execution_count": 15,
   "metadata": {},
   "outputs": [],
   "source": [
    "del arr"
   ]
  },
  {
   "cell_type": "code",
   "execution_count": 8,
   "metadata": {},
   "outputs": [],
   "source": [
    "A_ = np.memmap(fileA, dtype='float64', mode='r', shape=(47616, 55296, 3))\n",
    "B = np.memmap(fileB, dtype='float64', mode='w+', shape=(47616*55296, 3))\n",
    "B[:] = A_.reshape((-1, 3))"
   ]
  },
  {
   "cell_type": "code",
   "execution_count": 11,
   "metadata": {},
   "outputs": [],
   "source": [
    "def get_item_from_disk():\n",
    "    B_ = np.memmap(fileB, dtype='float64', mode='w+', shape=(47616*55296, 3))\n",
    "    return B_\n",
    "\n",
    "arr[:] = get_item_from_disk()"
   ]
  },
  {
   "cell_type": "code",
   "execution_count": 14,
   "metadata": {},
   "outputs": [],
   "source": [
    "arr2 = np.empty((47616*55296, 3), dtype='float64')\n",
    "arr2[:] = arr[:]"
   ]
  },
  {
   "cell_type": "code",
   "execution_count": 20,
   "metadata": {},
   "outputs": [],
   "source": [
    "arr2[100, 1]\n",
    "del arr, arr2"
   ]
  },
  {
   "cell_type": "code",
   "execution_count": 24,
   "metadata": {},
   "outputs": [
    {
     "data": {
      "text/plain": [
       "1.0"
      ]
     },
     "execution_count": 24,
     "metadata": {},
     "output_type": "execute_result"
    }
   ],
   "source": [
    "B_1 = np.memmap(fileA, dtype='float64', mode='r', shape=(47616*55296, 3))\n",
    "B_1[100,2]"
   ]
  },
  {
   "cell_type": "code",
   "execution_count": 28,
   "metadata": {},
   "outputs": [],
   "source": [
    "os.remove(fileA)"
   ]
  },
  {
   "cell_type": "code",
   "execution_count": 32,
   "metadata": {},
   "outputs": [],
   "source": [
    "arr = np.empty((47616*55296, 3), dtype='float64')\n",
    "arr[:] = B_1[:]"
   ]
  },
  {
   "cell_type": "code",
   "execution_count": 34,
   "metadata": {},
   "outputs": [
    {
     "data": {
      "text/plain": [
       "1.0"
      ]
     },
     "execution_count": 34,
     "metadata": {},
     "output_type": "execute_result"
    }
   ],
   "source": [
    "arr[20000, 2]"
   ]
  },
  {
   "cell_type": "code",
   "execution_count": 33,
   "metadata": {},
   "outputs": [
    {
     "data": {
      "text/plain": [
       "[]"
      ]
     },
     "execution_count": 33,
     "metadata": {},
     "output_type": "execute_result"
    }
   ],
   "source": [
    "os.listdir(dirpath)"
   ]
  },
  {
   "cell_type": "code",
   "execution_count": null,
   "metadata": {},
   "outputs": [],
   "source": [
    "def color_deconv(rgb, channel, conv_matrix):\n",
    "    \"\"\"RGB to stain color space conversion using color deconvolution.\n",
    "    Original implementation in scikit-image \n",
    "    https://github.com/scikit-image/scikit-image/blob/master/skimage/color/colorconv.py#L1350\n",
    "    \n",
    "    Parameters\n",
    "    ----------\n",
    "    rgb : array_like\n",
    "        The image in RGB format, in a 3-D array of shape ``(.., .., 3)``.\n",
    "    channel : integer of [0,2]\n",
    "        The specific output channel to compute\n",
    "    conv_matrix: ndarray\n",
    "        The stain separation matrix as described by G. Landini [1]_.\n",
    "    Returns\n",
    "    -------\n",
    "    out : ndarray\n",
    "        The image in stain color channel, in a 2-D array of shape\n",
    "        ``(.., ..)``.\n",
    "    \"\"\"\n",
    "    rgb = img_as_float(rgb, force_copy=True)\n",
    "    rgb += 2\n",
    "    out_shape = rgb.shape[0:2]\n",
    "    \n",
    "    # Copy data in rgb into a memmap numpy array\n",
    "    _rgb = np.memmap(fp, dtype='float64', mode='w+', shape=rgb.shape)\n",
    "    _rgb[:] = rgb[:]\n",
    "    del rgb\n",
    "    \n",
    "    # Compute log, reshape memmap array and load into a normal numpy array\n",
    "    _rgb = (-np.log10(_rgb)).reshape((-1, 3))\n",
    "    stains = np.empty(_rgb.shape, dtype='float64')\n",
    "    stains[:] = _rgb[:]\n",
    "    \n",
    "    stains = stains @ (conv_matrix[:,channel].reshape(-1, 1))\n",
    "    return np.reshape(stains, out_shape)"
   ]
  }
 ],
 "metadata": {
  "kernelspec": {
   "display_name": "Python 3",
   "language": "python",
   "name": "python3"
  },
  "language_info": {
   "codemirror_mode": {
    "name": "ipython",
    "version": 3
   },
   "file_extension": ".py",
   "mimetype": "text/x-python",
   "name": "python",
   "nbconvert_exporter": "python",
   "pygments_lexer": "ipython3",
   "version": "3.6.8"
  }
 },
 "nbformat": 4,
 "nbformat_minor": 2
}
